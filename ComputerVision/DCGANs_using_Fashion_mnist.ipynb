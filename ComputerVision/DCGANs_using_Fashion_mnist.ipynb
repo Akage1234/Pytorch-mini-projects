{
  "nbformat": 4,
  "nbformat_minor": 0,
  "metadata": {
    "colab": {
      "provenance": [],
      "gpuType": "T4",
      "include_colab_link": true
    },
    "kernelspec": {
      "name": "python3",
      "display_name": "Python 3"
    },
    "language_info": {
      "name": "python"
    },
    "accelerator": "GPU"
  },
  "cells": [
    {
      "cell_type": "markdown",
      "metadata": {
        "id": "view-in-github",
        "colab_type": "text"
      },
      "source": [
        "<a href=\"https://colab.research.google.com/github/Akage1234/Pytorch-mini-projects/blob/main/ComputerVision/DCGANs_using_Fashion_mnist.ipynb\" target=\"_parent\"><img src=\"https://colab.research.google.com/assets/colab-badge.svg\" alt=\"Open In Colab\"/></a>"
      ]
    },
    {
      "cell_type": "code",
      "source": [
        "import torch\n",
        "import torch.nn as nn\n",
        "import torch.optim as optim\n",
        "import numpy as np\n",
        "import matplotlib.pyplot as plt\n",
        "from torchvision import datasets, transforms\n",
        "from torch.utils.data import DataLoader\n",
        "from torchvision.utils import make_grid, save_image\n",
        "from torchvision.transforms import functional as TF\n",
        "from torch.nn.utils import spectral_norm\n",
        "import torch.nn.functional as F\n",
        "import glob, re, os, copy, imageio"
      ],
      "metadata": {
        "id": "l5ntQjdE4OB2"
      },
      "execution_count": 1,
      "outputs": []
    },
    {
      "cell_type": "code",
      "source": [
        "device = ('cuda' if torch.cuda.is_available() else 'cpu')\n",
        "print(\"Device: \", device)"
      ],
      "metadata": {
        "colab": {
          "base_uri": "https://localhost:8080/"
        },
        "id": "ldYXEZBl_o0G",
        "outputId": "d7f34c7a-143b-4657-c7f4-1bc15f09917d"
      },
      "execution_count": null,
      "outputs": [
        {
          "output_type": "stream",
          "name": "stdout",
          "text": [
            "Device:  cuda\n"
          ]
        }
      ]
    },
    {
      "cell_type": "code",
      "source": [
        "np.random.seed(42)\n",
        "torch.manual_seed(42)\n",
        "torch.cuda.manual_seed(42)\n",
        "torch.cuda.manual_seed_all(42)\n",
        "torch.backends.cudnn.deterministic = True\n",
        "torch.backends.cudnn.benchmark = False"
      ],
      "metadata": {
        "id": "cg0miEbLp299"
      },
      "execution_count": null,
      "outputs": []
    },
    {
      "cell_type": "markdown",
      "source": [
        "# Loading/Preprocessing"
      ],
      "metadata": {
        "id": "fEBweGJx3vc-"
      }
    },
    {
      "cell_type": "code",
      "execution_count": null,
      "metadata": {
        "id": "weWpmQjRt1_2"
      },
      "outputs": [],
      "source": [
        "# transformations\n",
        "transform = transforms.Compose([\n",
        "    transforms.ToTensor(),\n",
        "    transforms.Normalize((0.5,), (0.5,))\n",
        "])"
      ]
    },
    {
      "cell_type": "code",
      "source": [
        "train_dataset = datasets.FashionMNIST(\"./data\", train=True, download=True, transform=transform)\n",
        "test_dataset = datasets.FashionMNIST(\"./data\", train=False, download=True, transform=transform)"
      ],
      "metadata": {
        "id": "u2fOajk3_drw"
      },
      "execution_count": null,
      "outputs": []
    },
    {
      "cell_type": "code",
      "source": [
        "len(train_dataset)"
      ],
      "metadata": {
        "colab": {
          "base_uri": "https://localhost:8080/"
        },
        "id": "g3UZj7EZAl1v",
        "outputId": "76687ead-6c13-4ba5-e721-6377a0e7065e"
      },
      "execution_count": null,
      "outputs": [
        {
          "output_type": "execute_result",
          "data": {
            "text/plain": [
              "60000"
            ]
          },
          "metadata": {},
          "execution_count": 143
        }
      ]
    },
    {
      "cell_type": "code",
      "source": [
        "image, label = train_dataset[0]\n",
        "print(\"Image dim: \",image.shape)    # (1, 28, 28) -> 28x28 grayscale images\n",
        "print(type(image))\n",
        "print(\"Label\", label)"
      ],
      "metadata": {
        "colab": {
          "base_uri": "https://localhost:8080/"
        },
        "id": "utQxhqnmAxVj",
        "outputId": "966592f0-0be5-4d47-c8d9-3db62bed8ece"
      },
      "execution_count": null,
      "outputs": [
        {
          "output_type": "stream",
          "name": "stdout",
          "text": [
            "Image dim:  torch.Size([1, 28, 28])\n",
            "<class 'torch.Tensor'>\n",
            "Label 9\n"
          ]
        }
      ]
    },
    {
      "cell_type": "code",
      "source": [
        "fig, axes = plt.subplots(1, 5, figsize=(5,3))\n",
        "\n",
        "for i, ax in enumerate(axes):\n",
        "    image, label = train_dataset[i]\n",
        "    image = (image+1)/2\n",
        "    ax.imshow(image.squeeze(0), cmap='gray_r', vmin=0, vmax=1)\n",
        "    ax.set_title(label)\n",
        "    ax.axis('off')\n",
        "\n",
        "plt.tight_layout()\n",
        "plt.show()"
      ],
      "metadata": {
        "colab": {
          "base_uri": "https://localhost:8080/",
          "height": 141
        },
        "id": "uY1b8tn4ILQB",
        "outputId": "840cc07b-21e2-428e-d131-133aeb542e50"
      },
      "execution_count": null,
      "outputs": [
        {
          "output_type": "display_data",
          "data": {
            "text/plain": [
              "<Figure size 500x300 with 5 Axes>"
            ],
            "image/png": "[encoded data removed]"
          },
          "metadata": {}
        }
      ]
    },
    {
      "cell_type": "code",
      "source": [
        "# DataLoader\n",
        "batch_size = 64     # or 32, 128, 256 depending on gpu\n",
        "train_loader = DataLoader(train_dataset, batch_size, shuffle=True, num_workers=16, pin_memory=True)"
      ],
      "metadata": {
        "id": "fvOEuqDaB-Kt",
        "colab": {
          "base_uri": "https://localhost:8080/"
        },
        "outputId": "1085ec14-38d4-4384-ef39-041a10681c3f"
      },
      "execution_count": null,
      "outputs": [
        {
          "output_type": "stream",
          "name": "stderr",
          "text": [
            "/usr/local/lib/python3.12/dist-packages/torch/utils/data/dataloader.py:627: UserWarning: This DataLoader will create 16 worker processes in total. Our suggested max number of worker in current system is 2, which is smaller than what this DataLoader is going to create. Please be aware that excessive worker creation might get DataLoader running slow or even freeze, lower the worker number to avoid potential slowness/freeze if necessary.\n",
            "  warnings.warn(\n"
          ]
        }
      ]
    },
    {
      "cell_type": "markdown",
      "source": [
        "# Model"
      ],
      "metadata": {
        "id": "0mnFjFwMFqZn"
      }
    },
    {
      "cell_type": "code",
      "source": [
        "num_classes = 10\n",
        "latent_dim = 128\n",
        "\n",
        "# Generator\n",
        "generator = nn.Sequential(\n",
        "    nn.Linear(latent_dim + num_classes, 128*7*7),\n",
        "    nn.Unflatten(1, (128, 7, 7)),\n",
        "    nn.ConvTranspose2d(128, 64, kernel_size=4, stride=2, padding=1),\n",
        "    nn.BatchNorm2d(64),\n",
        "    nn.ReLU(True),\n",
        "    nn.ConvTranspose2d(64, 32, kernel_size=4, stride=2, padding=1),\n",
        "    nn.BatchNorm2d(32),\n",
        "    nn.ReLU(True),\n",
        "    nn.ConvTranspose2d(32, 1, kernel_size=3, stride=1, padding=1),\n",
        "    nn.Tanh()\n",
        ")"
      ],
      "metadata": {
        "id": "1240Gnf-EBf1"
      },
      "execution_count": null,
      "outputs": []
    },
    {
      "cell_type": "code",
      "source": [
        "# Discriminator\n",
        "discriminator = nn.Sequential(\n",
        "    spectral_norm(nn.Conv2d(1 + num_classes, 64, kernel_size=4, stride=2, padding=1)),\n",
        "    nn.LeakyReLU(0.2, inplace=True),\n",
        "\n",
        "    spectral_norm(nn.Conv2d(64, 128, kernel_size=4, stride=2, padding=1)),\n",
        "    nn.LeakyReLU(0.2, inplace=True),\n",
        "\n",
        "    spectral_norm(nn.Conv2d(128, 256, kernel_size=3, stride=1, padding=1)),\n",
        "    nn.LeakyReLU(0.2, inplace=True),\n",
        "\n",
        "    nn.Flatten(),\n",
        "    spectral_norm(nn.Linear(256*7*7, 1)),\n",
        ")"
      ],
      "metadata": {
        "id": "6MVPXFsjFwr6"
      },
      "execution_count": null,
      "outputs": []
    },
    {
      "cell_type": "code",
      "source": [
        "# Hyperparameters\n",
        "\n",
        "d_learning_rate = 4e-4\n",
        "g_learning_rate = 1e-4\n",
        "\n",
        "b1, b2 = 0.5, 0.999\n",
        "\n",
        "criterion = nn.BCEWithLogitsLoss()\n",
        "optimizerG = optim.Adam(generator.parameters(), lr=g_learning_rate, betas=(b1, b2))\n",
        "optimizerD = optim.Adam(discriminator.parameters(), lr=d_learning_rate, betas=(b1, b2))"
      ],
      "metadata": {
        "id": "8BZq6RCoZOpX"
      },
      "execution_count": null,
      "outputs": []
    },
    {
      "cell_type": "markdown",
      "source": [
        "# Training"
      ],
      "metadata": {
        "id": "DpOZPoLrbjWw"
      }
    },
    {
      "cell_type": "code",
      "source": [
        "latent_dim = 128\n",
        "num_classes = 10\n",
        "fixed_z = torch.randn(20, latent_dim, device=device)\n",
        "fixed_labels = torch.arange(num_classes, device=device).repeat_interleave(2)  # 20 = each class twice\n",
        "fixed_y_onehot = F.one_hot(fixed_labels, num_classes).float()"
      ],
      "metadata": {
        "id": "GhIFYdpN4cbd"
      },
      "execution_count": null,
      "outputs": []
    },
    {
      "cell_type": "code",
      "source": [
        "# Checkpoint logic\n",
        "ckpt_paths = glob.glob(\"checkpoints/gan_epoch_*.pth\")\n",
        "if ckpt_paths:\n",
        "    def epoch_from_path(p):\n",
        "        m = re.search(r'gan_epoch_(\\d+)\\.pth', p)\n",
        "        return int(m.group(1)) if m else -1\n",
        "    latest_ckpt = max(ckpt_paths, key=epoch_from_path)\n",
        "    ckpt = torch.load(latest_ckpt, map_location=device)\n",
        "    generator.load_state_dict(ckpt['generator_state_dict'])\n",
        "    discriminator.load_state_dict(ckpt['discriminator_state_dict'])\n",
        "    optimizerG.load_state_dict(ckpt['optimizerG_state_dict'])\n",
        "    optimizerD.load_state_dict(ckpt['optimizerD_state_dict'])\n",
        "    start_epoch = ckpt.get('epoch', 0)\n",
        "    print(f\"Resuming from {latest_ckpt} (completed epochs = {start_epoch})\")\n",
        "else:\n",
        "    start_epoch = 0\n",
        "    print(\"No checkpoint found. Training from scratch.\")"
      ],
      "metadata": {
        "colab": {
          "base_uri": "https://localhost:8080/"
        },
        "id": "X2Xn0zfVaiVN",
        "outputId": "7f6b50bb-b448-431d-fc5e-55fcf4190365"
      },
      "execution_count": null,
      "outputs": [
        {
          "output_type": "stream",
          "name": "stdout",
          "text": [
            "No checkpoint found. Training from scratch.\n"
          ]
        }
      ]
    },
    {
      "cell_type": "code",
      "source": [
        "# Exponential Moving Average (EMA) -> stablizing generator weights\n",
        "ema_decay = 0.999\n",
        "G_ema = copy.deepcopy(generator).to(device)\n",
        "for p in G_ema.parameters():\n",
        "  p.requires_grad = False\n",
        "\n",
        "def update_ema(G, G_ema, decay=ema_decay):\n",
        "  with torch.no_grad():\n",
        "    for p, p_ema in zip(G.parameters(), G_ema.parameters()):\n",
        "      p_ema.data.mul_(decay).add_(p.data, alpha = 1 - decay)"
      ],
      "metadata": {
        "id": "t3eq8GvIu4Wp"
      },
      "execution_count": null,
      "outputs": []
    },
    {
      "cell_type": "code",
      "source": [
        "n_epochs =  50\n",
        "\n",
        "d_losses = []\n",
        "g_losses = []\n",
        "\n",
        "os.makedirs(\"results\", exist_ok=True)\n",
        "os.makedirs(\"checkpoints\", exist_ok=True)\n",
        "\n",
        "generator = generator.to(device)\n",
        "discriminator = discriminator.to(device)\n",
        "\n",
        "if start_epoch >= n_epochs:\n",
        "    print(f\"Already trained up to epoch {start_epoch} (>= n_epochs={n_epochs})\")\n",
        "else :\n",
        "  for epoch in range(start_epoch, n_epochs):\n",
        "      epoch_d_loss = 0.0\n",
        "      epoch_g_loss = 0.0\n",
        "      num_batches = 0\n",
        "      epoch_mean_real = 0.0\n",
        "      epoch_mean_fake = 0.0\n",
        "\n",
        "      for batch_images, labels in train_loader:\n",
        "          batch_images = batch_images.to(device)\n",
        "          labels = labels.to(device)\n",
        "          current_batch_size = batch_images.size(0)\n",
        "\n",
        "          y_onehot = F.one_hot(labels, num_classes).float()\n",
        "          y_map = y_onehot.view(current_batch_size, num_classes, 1, 1).expand(-1, -1, 28, 28)\n",
        "\n",
        "          z = torch.randn(current_batch_size, latent_dim, device=device)\n",
        "          z_cond = torch.cat([z, y_onehot], dim=1)\n",
        "\n",
        "          # Training Discriminator\n",
        "          for p in discriminator.parameters():\n",
        "              p.requires_grad = True\n",
        "\n",
        "          optimizerD.zero_grad()\n",
        "          batch_images += 0.02 * torch.randn_like(batch_images)\n",
        "          pred_real = discriminator(torch.cat([batch_images, y_map], dim=1))\n",
        "          real_label = torch.empty_like(pred_real).uniform_(0.85, 1.0)\n",
        "\n",
        "          fake_images = generator(z_cond).detach()\n",
        "          pred_fake = discriminator(torch.cat([fake_images, y_map], dim=1))\n",
        "          fake_label = torch.empty_like(pred_fake).uniform_(0.0, 0.15)\n",
        "\n",
        "          loss_d = 0.5 * (criterion(pred_real, real_label) + criterion(pred_fake, fake_label))\n",
        "          loss_d.backward()\n",
        "          optimizerD.step()\n",
        "\n",
        "          # Training generator\n",
        "          for p in discriminator.parameters():\n",
        "              p.requires_grad = False\n",
        "\n",
        "          fake_images = generator(z_cond)\n",
        "          pred = discriminator(torch.cat([fake_images, y_map], dim=1))\n",
        "          loss_g = criterion(pred, torch.ones_like(pred))\n",
        "          optimizerG.zero_grad()\n",
        "          loss_g.backward()\n",
        "          optimizerG.step()\n",
        "          update_ema(generator, G_ema)\n",
        "\n",
        "          epoch_d_loss += loss_d.item()\n",
        "          epoch_g_loss += loss_g.item()\n",
        "          epoch_mean_real += torch.sigmoid(pred_real.detach()).mean().item()\n",
        "          epoch_mean_fake += torch.sigmoid(pred_fake.detach()).mean().item()\n",
        "\n",
        "          num_batches += 1\n",
        "\n",
        "      epoch_d_loss /= num_batches\n",
        "      epoch_g_loss /= num_batches\n",
        "      epoch_mean_real /= num_batches\n",
        "      epoch_mean_fake /= num_batches\n",
        "      d_losses.append(epoch_d_loss)\n",
        "      g_losses.append(epoch_g_loss)\n",
        "\n",
        "      print(f\"Epoch {epoch+1} | loss_d: {epoch_d_loss:.4f} | loss_g: {epoch_g_loss:.4f} \"\n",
        "            f\"| D(real) p: {epoch_mean_real:.3f} | D(fake) p: {epoch_mean_fake:.3f}\")\n",
        "\n",
        "      # Creating fixed set of images for visual verification\n",
        "      with torch.no_grad():\n",
        "          zc = torch.cat([fixed_z, fixed_y_onehot], dim=1)\n",
        "          fake_images = G_ema(zc).detach().cpu()\n",
        "          grid = make_grid(fake_images, nrow=5, normalize=True)\n",
        "          grid = 1 - grid\n",
        "          grid = TF.resize(grid, size=512)\n",
        "          filename = f\"results/fixed_z_epoch_{epoch+1:03d}.png\"\n",
        "          save_image(grid, filename)\n",
        "\n",
        "      # checkpoints\n",
        "      torch.save({\n",
        "              'epoch': epoch + 1,\n",
        "              'generator_state_dict': generator.state_dict(),\n",
        "              'generator_ema_state_dict': G_ema.state_dict(),\n",
        "              'discriminator_state_dict': discriminator.state_dict(),\n",
        "              'optimizerG_state_dict': optimizerG.state_dict(),\n",
        "              'optimizerD_state_dict': optimizerD.state_dict()\n",
        "      }, f\"checkpoints/gan_epoch_{epoch+1}.pth\")\n",
        "\n",
        "      torch.save({'d_losses': d_losses, 'g_losses': g_losses}, \"checkpoints/losses.pth\")"
      ],
      "metadata": {
        "colab": {
          "base_uri": "https://localhost:8080/"
        },
        "id": "YK-g5nUvbXdE",
        "outputId": "5730b4b1-1a7c-412d-d835-56a510617a87"
      },
      "execution_count": null,
      "outputs": [
        {
          "output_type": "stream",
          "name": "stdout",
          "text": [
            "Epoch 1 | loss_d: 0.5853 | loss_g: 0.9936 | D(real) p: 0.595 | D(fake) p: 0.410\n",
            "Epoch 2 | loss_d: 0.6200 | loss_g: 0.8972 | D(real) p: 0.563 | D(fake) p: 0.439\n",
            "Epoch 3 | loss_d: 0.6432 | loss_g: 0.8401 | D(real) p: 0.544 | D(fake) p: 0.459\n",
            "Epoch 4 | loss_d: 0.6513 | loss_g: 0.8178 | D(real) p: 0.536 | D(fake) p: 0.466\n",
            "Epoch 5 | loss_d: 0.6537 | loss_g: 0.8118 | D(real) p: 0.534 | D(fake) p: 0.468\n",
            "Epoch 6 | loss_d: 0.6561 | loss_g: 0.8023 | D(real) p: 0.531 | D(fake) p: 0.471\n",
            "Epoch 7 | loss_d: 0.6579 | loss_g: 0.7974 | D(real) p: 0.529 | D(fake) p: 0.472\n",
            "Epoch 8 | loss_d: 0.6589 | loss_g: 0.7913 | D(real) p: 0.528 | D(fake) p: 0.473\n",
            "Epoch 9 | loss_d: 0.6607 | loss_g: 0.7859 | D(real) p: 0.527 | D(fake) p: 0.474\n",
            "Epoch 10 | loss_d: 0.6616 | loss_g: 0.7819 | D(real) p: 0.526 | D(fake) p: 0.476\n",
            "Epoch 11 | loss_d: 0.6627 | loss_g: 0.7787 | D(real) p: 0.524 | D(fake) p: 0.476\n",
            "Epoch 12 | loss_d: 0.6633 | loss_g: 0.7751 | D(real) p: 0.524 | D(fake) p: 0.477\n",
            "Epoch 13 | loss_d: 0.6640 | loss_g: 0.7727 | D(real) p: 0.523 | D(fake) p: 0.478\n",
            "Epoch 14 | loss_d: 0.6639 | loss_g: 0.7721 | D(real) p: 0.523 | D(fake) p: 0.478\n",
            "Epoch 15 | loss_d: 0.6647 | loss_g: 0.7690 | D(real) p: 0.523 | D(fake) p: 0.478\n",
            "Epoch 16 | loss_d: 0.6648 | loss_g: 0.7683 | D(real) p: 0.522 | D(fake) p: 0.478\n",
            "Epoch 17 | loss_d: 0.6648 | loss_g: 0.7669 | D(real) p: 0.522 | D(fake) p: 0.478\n",
            "Epoch 18 | loss_d: 0.6652 | loss_g: 0.7646 | D(real) p: 0.522 | D(fake) p: 0.479\n",
            "Epoch 19 | loss_d: 0.6653 | loss_g: 0.7629 | D(real) p: 0.522 | D(fake) p: 0.479\n",
            "Epoch 20 | loss_d: 0.6654 | loss_g: 0.7627 | D(real) p: 0.521 | D(fake) p: 0.479\n",
            "Epoch 21 | loss_d: 0.6654 | loss_g: 0.7601 | D(real) p: 0.521 | D(fake) p: 0.480\n",
            "Epoch 22 | loss_d: 0.6653 | loss_g: 0.7615 | D(real) p: 0.521 | D(fake) p: 0.479\n",
            "Epoch 23 | loss_d: 0.6654 | loss_g: 0.7600 | D(real) p: 0.521 | D(fake) p: 0.479\n",
            "Epoch 24 | loss_d: 0.6653 | loss_g: 0.7593 | D(real) p: 0.521 | D(fake) p: 0.479\n",
            "Epoch 25 | loss_d: 0.6649 | loss_g: 0.7581 | D(real) p: 0.521 | D(fake) p: 0.479\n",
            "Epoch 26 | loss_d: 0.6650 | loss_g: 0.7575 | D(real) p: 0.521 | D(fake) p: 0.479\n",
            "Epoch 27 | loss_d: 0.6645 | loss_g: 0.7575 | D(real) p: 0.521 | D(fake) p: 0.479\n",
            "Epoch 28 | loss_d: 0.6649 | loss_g: 0.7563 | D(real) p: 0.521 | D(fake) p: 0.479\n",
            "Epoch 29 | loss_d: 0.6645 | loss_g: 0.7559 | D(real) p: 0.521 | D(fake) p: 0.479\n",
            "Epoch 30 | loss_d: 0.6644 | loss_g: 0.7554 | D(real) p: 0.521 | D(fake) p: 0.479\n",
            "Epoch 31 | loss_d: 0.6642 | loss_g: 0.7549 | D(real) p: 0.521 | D(fake) p: 0.479\n",
            "Epoch 32 | loss_d: 0.6641 | loss_g: 0.7551 | D(real) p: 0.521 | D(fake) p: 0.479\n",
            "Epoch 33 | loss_d: 0.6638 | loss_g: 0.7549 | D(real) p: 0.521 | D(fake) p: 0.479\n",
            "Epoch 34 | loss_d: 0.6636 | loss_g: 0.7553 | D(real) p: 0.521 | D(fake) p: 0.478\n",
            "Epoch 35 | loss_d: 0.6635 | loss_g: 0.7550 | D(real) p: 0.521 | D(fake) p: 0.479\n",
            "Epoch 36 | loss_d: 0.6629 | loss_g: 0.7542 | D(real) p: 0.522 | D(fake) p: 0.478\n",
            "Epoch 37 | loss_d: 0.6631 | loss_g: 0.7540 | D(real) p: 0.522 | D(fake) p: 0.478\n",
            "Epoch 38 | loss_d: 0.6628 | loss_g: 0.7536 | D(real) p: 0.522 | D(fake) p: 0.478\n",
            "Epoch 39 | loss_d: 0.6627 | loss_g: 0.7539 | D(real) p: 0.522 | D(fake) p: 0.478\n",
            "Epoch 40 | loss_d: 0.6626 | loss_g: 0.7541 | D(real) p: 0.522 | D(fake) p: 0.478\n",
            "Epoch 41 | loss_d: 0.6625 | loss_g: 0.7530 | D(real) p: 0.522 | D(fake) p: 0.478\n",
            "Epoch 42 | loss_d: 0.6623 | loss_g: 0.7535 | D(real) p: 0.522 | D(fake) p: 0.478\n",
            "Epoch 43 | loss_d: 0.6621 | loss_g: 0.7538 | D(real) p: 0.522 | D(fake) p: 0.478\n",
            "Epoch 44 | loss_d: 0.6620 | loss_g: 0.7525 | D(real) p: 0.522 | D(fake) p: 0.478\n",
            "Epoch 45 | loss_d: 0.6617 | loss_g: 0.7536 | D(real) p: 0.522 | D(fake) p: 0.478\n",
            "Epoch 46 | loss_d: 0.6615 | loss_g: 0.7529 | D(real) p: 0.523 | D(fake) p: 0.478\n",
            "Epoch 47 | loss_d: 0.6614 | loss_g: 0.7539 | D(real) p: 0.522 | D(fake) p: 0.477\n",
            "Epoch 48 | loss_d: 0.6615 | loss_g: 0.7528 | D(real) p: 0.523 | D(fake) p: 0.478\n",
            "Epoch 49 | loss_d: 0.6613 | loss_g: 0.7536 | D(real) p: 0.523 | D(fake) p: 0.477\n",
            "Epoch 50 | loss_d: 0.6610 | loss_g: 0.7541 | D(real) p: 0.523 | D(fake) p: 0.477\n"
          ]
        }
      ]
    },
    {
      "cell_type": "code",
      "source": [
        "# Saving model\n",
        "torch.save(generator.state_dict(), \"generator_final.pth\")\n",
        "torch.save(discriminator.state_dict(), \"discriminator_final.pth\")\n",
        "print(\"Saved model states\")"
      ],
      "metadata": {
        "id": "YZvi75iE7yDp",
        "colab": {
          "base_uri": "https://localhost:8080/"
        },
        "outputId": "cb42a7e5-51ad-4710-b5a4-3c2e2ecc021e"
      },
      "execution_count": null,
      "outputs": [
        {
          "output_type": "stream",
          "name": "stdout",
          "text": [
            "Saved model states\n"
          ]
        }
      ]
    },
    {
      "cell_type": "code",
      "source": [
        "# creating gif animation\n",
        "folder = \"/content/results\"\n",
        "frames = []\n",
        "\n",
        "files = sorted([f for f in os.listdir(folder) if f.endswith(\".png\")])\n",
        "for file in files:\n",
        "    image = imageio.imread(os.path.join(folder, file))\n",
        "    frames.append(image)\n",
        "\n",
        "imageio.mimsave(\"/content/gan_training.gif\", frames, fps=5)"
      ],
      "metadata": {
        "colab": {
          "base_uri": "https://localhost:8080/"
        },
        "id": "RDf3VpFFkByn",
        "outputId": "6539af64-5036-4605-d658-e57f30148dac"
      },
      "execution_count": null,
      "outputs": [
        {
          "output_type": "stream",
          "name": "stderr",
          "text": [
            "/tmp/ipython-input-3571762872.py:9: DeprecationWarning: Starting with ImageIO v3 the behavior of this function will switch to that of iio.v3.imread. To keep the current behavior (and make this warning disappear) use `import imageio.v2 as imageio` or call `imageio.v2.imread` directly.\n",
            "  image = imageio.imread(os.path.join(folder, file))\n"
          ]
        }
      ]
    }
  ]
}