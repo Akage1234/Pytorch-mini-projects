{
  "nbformat": 4,
  "nbformat_minor": 0,
  "metadata": {
    "colab": {
      "provenance": [],
      "gpuType": "T4"
    },
    "kernelspec": {
      "name": "python3",
      "display_name": "Python 3"
    },
    "language_info": {
      "name": "python"
    },
    "accelerator": "GPU"
  },
  "cells": [
    {
      "cell_type": "code",
      "source": [
        "import os, copy, math, numpy as np\n",
        "import torch\n",
        "import torch.nn as nn\n",
        "import torch.optim as optim\n",
        "import torch.nn.functional as F\n",
        "from torchvision import datasets, transforms\n",
        "from torch.utils.data import DataLoader\n",
        "from torchvision.utils import save_image\n",
        "import matplotlib.pyplot as plt"
      ],
      "metadata": {
        "id": "WW71qQcKwPxw"
      },
      "execution_count": 1,
      "outputs": []
    },
    {
      "cell_type": "code",
      "source": [
        "device = ('cuda' if torch.cuda.is_available() else 'cpu')\n",
        "print('using', device)\n",
        "\n",
        "np.random.seed(42)\n",
        "torch.manual_seed(42)\n",
        "if torch.cuda.is_available():\n",
        "    torch.cuda.manual_seed_all(42)\n",
        "torch.backends.cudnn.deterministic = True\n",
        "torch.backends.cudnn.benchmark = False"
      ],
      "metadata": {
        "colab": {
          "base_uri": "https://localhost:8080/"
        },
        "id": "bEWfDnGiwUU4",
        "outputId": "fa75b7e4-f987-42af-ca33-3013813e82a5"
      },
      "execution_count": 2,
      "outputs": [
        {
          "output_type": "stream",
          "name": "stdout",
          "text": [
            "using cuda\n"
          ]
        }
      ]
    },
    {
      "cell_type": "code",
      "source": [
        "transform = transforms.Compose([\n",
        "    transforms.ToTensor(),\n",
        "    transforms.Normalize((0.5,), (0.5,))\n",
        "])\n",
        "\n",
        "train_dataset = datasets.FashionMNIST(\"./data\", train=True, download=True, transform=transform)"
      ],
      "metadata": {
        "id": "qJajz0t-wdJW",
        "colab": {
          "base_uri": "https://localhost:8080/"
        },
        "outputId": "97186835-ab36-4151-a32d-a368352b1dea"
      },
      "execution_count": 3,
      "outputs": [
        {
          "output_type": "stream",
          "name": "stderr",
          "text": [
            "100%|██████████| 26.4M/26.4M [00:02<00:00, 12.1MB/s]\n",
            "100%|██████████| 29.5k/29.5k [00:00<00:00, 203kB/s]\n",
            "100%|██████████| 4.42M/4.42M [00:01<00:00, 3.79MB/s]\n",
            "100%|██████████| 5.15k/5.15k [00:00<00:00, 26.0MB/s]\n"
          ]
        }
      ]
    },
    {
      "cell_type": "code",
      "source": [
        "use_subset = True\n",
        "subset_size = 5000\n",
        "batch_size = 256 if use_subset else 128\n",
        "\n",
        "if use_subset:\n",
        "    subset_indices = list(range(subset_size))\n",
        "    train_data = torch.utils.data.Subset(train_dataset, subset_indices)\n",
        "else:\n",
        "    train_data = train_dataset"
      ],
      "metadata": {
        "id": "HuDBVCcjwnuq"
      },
      "execution_count": 4,
      "outputs": []
    },
    {
      "cell_type": "code",
      "source": [
        "loader = DataLoader(train_data,batch_size=batch_size,shuffle=True,num_workers=8, pin_memory=torch.cuda.is_available())"
      ],
      "metadata": {
        "id": "uupUsLbXwyTf",
        "colab": {
          "base_uri": "https://localhost:8080/"
        },
        "outputId": "88a85d8f-b078-4afb-8ab9-1967041d9a40"
      },
      "execution_count": 5,
      "outputs": [
        {
          "output_type": "stream",
          "name": "stderr",
          "text": [
            "/usr/local/lib/python3.12/dist-packages/torch/utils/data/dataloader.py:627: UserWarning: This DataLoader will create 8 worker processes in total. Our suggested max number of worker in current system is 2, which is smaller than what this DataLoader is going to create. Please be aware that excessive worker creation might get DataLoader running slow or even freeze, lower the worker number to avoid potential slowness/freeze if necessary.\n",
            "  warnings.warn(\n"
          ]
        }
      ]
    },
    {
      "cell_type": "code",
      "source": [
        "# Cosine variance schedule\n",
        "def cosine_schedule(T=1000, s=0.008, max_beta=0.999):\n",
        "    t = np.arange(T+1, dtype=np.float64)\n",
        "    f = np.cos(((t/T + s) / (1+s)) * np.pi/2)**2\n",
        "    alphas = np.clip(f[1:] / f[:-1], 1 - max_beta, 1.0)\n",
        "    alphas = np.concatenate([[1.0], alphas]).astype(np.float32)\n",
        "    betas = (1.0 - alphas).astype(np.float32)\n",
        "    abar = np.cumprod(alphas).astype(np.float32)\n",
        "    return alphas, abar, betas\n",
        "\n",
        "T = 1000\n",
        "alpha, alpha_cumprod, beta = cosine_schedule(T)\n",
        "alpha = torch.tensor(alpha, dtype=torch.float32, device=device)\n",
        "alpha_cumprod = torch.tensor(alpha_cumprod, dtype=torch.float32, device=device)\n",
        "beta = torch.tensor(beta, dtype=torch.float32, device=device)"
      ],
      "metadata": {
        "id": "BHE62vF7w39g"
      },
      "execution_count": 6,
      "outputs": []
    },
    {
      "cell_type": "code",
      "source": [
        "# Forward noising\n",
        "def prepare_batch(x0, alpha_cumprod):\n",
        "    B = x0.size(0)\n",
        "    t = torch.randint(1, T+1, (B,), device=x0.device)\n",
        "    abar = alpha_cumprod[t].view(B,1,1,1)\n",
        "    noise = torch.randn_like(x0)\n",
        "    x_t = torch.sqrt(abar) * x0 + torch.sqrt(1 - abar) * noise\n",
        "    return x_t, t, noise"
      ],
      "metadata": {
        "id": "vFiQcEqVw7ax"
      },
      "execution_count": 7,
      "outputs": []
    },
    {
      "cell_type": "code",
      "source": [
        "# Sinusoidal time embedding\n",
        "class TimeEmbedding(nn.Module):\n",
        "    def __init__(self, T, embed_size):\n",
        "        super().__init__()\n",
        "        assert embed_size % 2 == 0\n",
        "        t = torch.arange(0, T+1).unsqueeze(1)              # [T+1, 1]\n",
        "        i = torch.arange(0, embed_size, 2).unsqueeze(0)    # [1, D/2]\n",
        "        div_term = (10000 ** (i.float() / embed_size))     # [1, D/2]\n",
        "        t = t.float()\n",
        "        t_emb = torch.zeros((T+1, embed_size))\n",
        "        t_emb[:, 0::2] = torch.sin(t / div_term)\n",
        "        t_emb[:, 1::2] = torch.cos(t / div_term)\n",
        "        self.register_buffer(\"time_encodings\", t_emb)\n",
        "\n",
        "    def forward(self, t):\n",
        "        return self.time_encodings[t]"
      ],
      "metadata": {
        "id": "KwWiCTOXw90a"
      },
      "execution_count": 8,
      "outputs": []
    },
    {
      "cell_type": "code",
      "source": [
        "@torch.no_grad()\n",
        "def generate_samples_ddim(model, alphas, alpha_cumprod, betas, time_embedding, labels, num_samples=16, steps=50, device='cuda', clamp_x0=True):\n",
        "    model.eval()\n",
        "    x = torch.randn(num_samples, 1, 28, 28, device=device)\n",
        "    T_local = len(betas) - 1\n",
        "    ts = torch.linspace(T_local, 1, steps, dtype=torch.long, device=device)\n",
        "    for i in range(steps):\n",
        "        t = int(ts[i].item())\n",
        "        t_batch = torch.full((num_samples,), t, device=device, dtype=torch.long)\n",
        "        eps_pred = model(x, time_embedding(t_batch), labels)\n",
        "        abar_t = alpha_cumprod[t]\n",
        "        x0_pred = (x - torch.sqrt(1 - abar_t) * eps_pred) / torch.sqrt(abar_t)\n",
        "        if clamp_x0:\n",
        "            x0_pred = torch.clamp(x0_pred, -1, 1)\n",
        "        t_prev = int(ts[i+1].item()) if i+1 < steps else 0\n",
        "        abar_prev = alpha_cumprod[t_prev]\n",
        "        x = torch.sqrt(abar_prev) * x0_pred + torch.sqrt(1 - abar_prev) * eps_pred\n",
        "    x = torch.clamp((x + 1) / 2, 0, 1)\n",
        "    return x"
      ],
      "metadata": {
        "id": "vMUjYz5IxHaB"
      },
      "execution_count": 9,
      "outputs": []
    },
    {
      "cell_type": "code",
      "source": [
        "# Residual Conv Block with GroupNorm\n",
        "class ResBlock(nn.Module):\n",
        "    def __init__(self, in_ch, out_ch, groups=4):\n",
        "        super().__init__()\n",
        "        self.conv1 = nn.Conv2d(in_ch, out_ch, 3, padding=1)\n",
        "        self.gn1 = nn.GroupNorm(groups, out_ch)\n",
        "        self.conv2 = nn.Conv2d(out_ch, out_ch, 3, padding=1)\n",
        "        self.gn2 = nn.GroupNorm(groups, out_ch)\n",
        "        self.skip = nn.Conv2d(in_ch, out_ch, 1) if in_ch != out_ch else nn.Identity()\n",
        "\n",
        "    def forward(self, x):\n",
        "        h = F.relu(self.gn1(self.conv1(x)))\n",
        "        h = self.gn2(self.conv2(h))\n",
        "        return F.relu(h + self.skip(x))"
      ],
      "metadata": {
        "id": "JJ1imVxAqwaQ"
      },
      "execution_count": 10,
      "outputs": []
    },
    {
      "cell_type": "code",
      "source": [
        "class DeeperUNet(nn.Module):\n",
        "    def __init__(self, time_embed_dim=64, base_ch=64, num_classes=10):\n",
        "        super().__init__()\n",
        "        self.label_emb = nn.Embedding(num_classes, time_embed_dim)\n",
        "\n",
        "        # Time + label MLPs\n",
        "        self.time_mlp1 = nn.Sequential(nn.Linear(time_embed_dim, base_ch), nn.ReLU())\n",
        "        self.time_mlp2 = nn.Sequential(nn.Linear(time_embed_dim, base_ch*2), nn.ReLU())\n",
        "        self.time_mlp3 = nn.Sequential(nn.Linear(time_embed_dim, base_ch*4), nn.ReLU())\n",
        "\n",
        "        # Encoder\n",
        "        self.enc1 = ResBlock(1, base_ch)       # 28x28 -> 28x28\n",
        "        self.down1 = nn.Conv2d(base_ch, base_ch*2, 3, stride=2, padding=1)  # 28 -> 14\n",
        "\n",
        "        self.enc2 = ResBlock(base_ch*2, base_ch*2)   # 14x14\n",
        "        self.down2 = nn.Conv2d(base_ch*2, base_ch*4, 3, stride=2, padding=1)  # 14 -> 7\n",
        "\n",
        "        # Bottleneck\n",
        "        self.bottleneck = ResBlock(base_ch*4, base_ch*4)\n",
        "\n",
        "        # Decoder\n",
        "        self.up1 = nn.Sequential(nn.Upsample(scale_factor=2, mode=\"nearest\"),\n",
        "                                 nn.Conv2d(base_ch*4, base_ch*2, 3, padding=1))  # 7 -> 14\n",
        "        self.dec1 = ResBlock(base_ch*4, base_ch*2)\n",
        "\n",
        "        self.up2 = nn.Sequential(nn.Upsample(scale_factor=2, mode=\"nearest\"),\n",
        "                                 nn.Conv2d(base_ch*2, base_ch, 3, padding=1))    # 14 -> 28\n",
        "        self.dec2 = ResBlock(base_ch*2, base_ch)\n",
        "\n",
        "        # Output\n",
        "        self.out_conv = nn.Conv2d(base_ch, 1, 1)\n",
        "\n",
        "    def forward(self, x, t_emb, labels):\n",
        "        cond_emb = t_emb + self.label_emb(labels)\n",
        "\n",
        "        # Project time embeddings for different stages\n",
        "        t1 = self.time_mlp1(cond_emb).unsqueeze(-1).unsqueeze(-1)\n",
        "        t2 = self.time_mlp2(cond_emb).unsqueeze(-1).unsqueeze(-1)\n",
        "        t3 = self.time_mlp3(cond_emb).unsqueeze(-1).unsqueeze(-1)\n",
        "\n",
        "        # Encoder\n",
        "        e1 = self.enc1(x) + t1\n",
        "        d1 = self.down1(e1)\n",
        "\n",
        "        e2 = self.enc2(d1) + t2\n",
        "        d2 = self.down2(e2)\n",
        "\n",
        "        # Bottleneck\n",
        "        b = self.bottleneck(d2) + t3\n",
        "\n",
        "        # Decoder\n",
        "        u1 = self.up1(b)\n",
        "        u1 = torch.cat([u1, e2], dim=1)\n",
        "        u1 = self.dec1(u1) + t2\n",
        "\n",
        "        u2 = self.up2(u1)\n",
        "        u2 = torch.cat([u2, e1], dim=1)\n",
        "        u2 = self.dec2(u2) + t1\n",
        "\n",
        "        return self.out_conv(u2)"
      ],
      "metadata": {
        "id": "LBSEdvYOrKtR"
      },
      "execution_count": 11,
      "outputs": []
    },
    {
      "cell_type": "code",
      "source": [
        "# Simple U-Net\n",
        "class SimpleUNet(nn.Module):\n",
        "    def __init__(self, time_embed_dim=64, base_channels=128, num_classes=10):\n",
        "        super().__init__()\n",
        "        self.label_emb = nn.Embedding(num_classes, time_embed_dim)\n",
        "\n",
        "        self.time_mlp_enc = nn.Sequential(nn.Linear(time_embed_dim, base_channels), nn.ReLU())\n",
        "        self.time_mlp_bottleneck = nn.Sequential(nn.Linear(time_embed_dim, base_channels*2), nn.ReLU())\n",
        "        self.time_mlp_dec = nn.Sequential(nn.Linear(time_embed_dim, base_channels), nn.ReLU())\n",
        "\n",
        "        # Encoder block\n",
        "        self.enc1 = nn.Sequential(\n",
        "            nn.Conv2d(1, base_channels, 3, padding=1),\n",
        "            nn.GroupNorm(4, base_channels),\n",
        "            nn.ReLU(inplace=True),\n",
        "            nn.Conv2d(base_channels, base_channels, 3, padding=1),\n",
        "            nn.GroupNorm(4, base_channels),\n",
        "            nn.ReLU(inplace=True),\n",
        "        )\n",
        "        # Anti-alias downsample\n",
        "        self.down = nn.Conv2d(base_channels, base_channels, kernel_size=3, stride=2, padding=1)\n",
        "\n",
        "        # Bottleneck\n",
        "        self.bottleneck = nn.Sequential(\n",
        "            nn.Conv2d(base_channels, base_channels*2, 3, padding=1),\n",
        "            nn.GroupNorm(4, base_channels*2),\n",
        "            nn.ReLU(inplace=True),\n",
        "            nn.Conv2d(base_channels*2, base_channels*2, 3, padding=1),\n",
        "            nn.GroupNorm(4, base_channels*2),\n",
        "            nn.ReLU(inplace=True),\n",
        "        )\n",
        "\n",
        "        # Anti-checkerboard upsample\n",
        "        self.upconv = nn.Sequential(\n",
        "            nn.Upsample(scale_factor=2, mode='nearest'),\n",
        "            nn.Conv2d(base_channels*2, base_channels, kernel_size=3, padding=1)\n",
        "        )\n",
        "\n",
        "        # Decoder block\n",
        "        self.dec1 = nn.Sequential(\n",
        "            nn.Conv2d(base_channels*2, base_channels, 3, padding=1),\n",
        "            nn.GroupNorm(4, base_channels),\n",
        "            nn.ReLU(inplace=True),\n",
        "            nn.Conv2d(base_channels, base_channels, 3, padding=1),\n",
        "            nn.GroupNorm(4, base_channels),\n",
        "            nn.ReLU(inplace=True),\n",
        "        )\n",
        "\n",
        "        self.out_conv = nn.Conv2d(base_channels, 1, 1)\n",
        "\n",
        "    def forward(self, x, t_emb, labels):\n",
        "        label_emb = self.label_emb(labels)\n",
        "        cond_emb = t_emb + label_emb\n",
        "        t_proj_enc = self.time_mlp_enc(cond_emb).unsqueeze(-1).unsqueeze(-1)\n",
        "        t_proj_bottleneck = self.time_mlp_bottleneck(cond_emb).unsqueeze(-1).unsqueeze(-1)\n",
        "        t_proj_dec = self.time_mlp_dec(cond_emb).unsqueeze(-1).unsqueeze(-1)\n",
        "        enc1 = self.enc1(x)\n",
        "        enc1 = enc1 + t_proj_enc\n",
        "\n",
        "        x = self.down(enc1)\n",
        "\n",
        "        x = self.bottleneck(x)\n",
        "        x = x + t_proj_bottleneck\n",
        "\n",
        "        x = self.upconv(x)\n",
        "        x = torch.cat([x, enc1], dim=1)\n",
        "        x = self.dec1(x)\n",
        "        x = x + t_proj_dec\n",
        "\n",
        "        out = self.out_conv(x)\n",
        "        return out"
      ],
      "metadata": {
        "id": "aAMDosaIxKa6"
      },
      "execution_count": 12,
      "outputs": []
    },
    {
      "cell_type": "code",
      "source": [
        "N = len(train_data)\n",
        "steps_per_epoch = math.ceil(N / batch_size)\n",
        "target_steps = 50_000 if not use_subset else 20_000   # tweak as you like\n",
        "epochs = math.ceil(target_steps / steps_per_epoch)\n",
        "log_every_steps = 200\n",
        "sample_every_steps = 500\n",
        "\n",
        "print(f\"N={N}, batch_size={batch_size}, steps_per_epoch={steps_per_epoch}, target_steps={target_steps}, epochs≈{epochs}\")"
      ],
      "metadata": {
        "colab": {
          "base_uri": "https://localhost:8080/"
        },
        "id": "9J4Aez-PxZfy",
        "outputId": "b8b9ac92-4db3-408e-834d-d3536f4cd3db"
      },
      "execution_count": 13,
      "outputs": [
        {
          "output_type": "stream",
          "name": "stdout",
          "text": [
            "N=5000, batch_size=256, steps_per_epoch=20, target_steps=20000, epochs≈1000\n"
          ]
        }
      ]
    },
    {
      "cell_type": "code",
      "source": [
        "model = DeeperUNet().to(device)\n",
        "ema_model = copy.deepcopy(model).to(device)\n",
        "for p in ema_model.parameters():\n",
        "    p.requires_grad_(False)\n",
        "\n",
        "time_embedding = TimeEmbedding(T, embed_size=64).to(device)\n",
        "\n",
        "loss_fn = nn.MSELoss()\n",
        "optimizer = optim.Adam(model.parameters(), lr=1e-3, betas=(0.9, 0.999))\n",
        "scheduler = optim.lr_scheduler.CosineAnnealingLR(optimizer, T_max=target_steps, eta_min=1e-5)\n",
        "ema_decay = 0.999\n",
        "grad_clip =1.0"
      ],
      "metadata": {
        "id": "1pZcabrdxXSQ"
      },
      "execution_count": 14,
      "outputs": []
    },
    {
      "cell_type": "code",
      "execution_count": 15,
      "metadata": {
        "colab": {
          "base_uri": "https://localhost:8080/"
        },
        "id": "_7LZTFFkwMCx",
        "outputId": "1f439a80-7725-4dc7-a93a-279015255e26"
      },
      "outputs": [
        {
          "output_type": "stream",
          "name": "stdout",
          "text": [
            "step 200/20000 (epoch 10), loss=0.0948\n",
            "step 400/20000 (epoch 20), loss=0.0971\n",
            "step 600/20000 (epoch 30), loss=0.0741\n",
            "step 800/20000 (epoch 40), loss=0.0786\n",
            "step 1000/20000 (epoch 50), loss=0.0853\n",
            "step 1200/20000 (epoch 60), loss=0.0826\n",
            "step 1400/20000 (epoch 70), loss=0.0711\n",
            "step 1600/20000 (epoch 80), loss=0.0702\n",
            "step 1800/20000 (epoch 90), loss=0.0636\n",
            "step 2000/20000 (epoch 100), loss=0.0787\n",
            "step 2200/20000 (epoch 110), loss=0.0698\n",
            "step 2400/20000 (epoch 120), loss=0.0643\n",
            "step 2600/20000 (epoch 130), loss=0.0718\n",
            "step 2800/20000 (epoch 140), loss=0.0663\n",
            "step 3000/20000 (epoch 150), loss=0.0828\n",
            "step 3200/20000 (epoch 160), loss=0.0651\n",
            "step 3400/20000 (epoch 170), loss=0.0685\n",
            "step 3600/20000 (epoch 180), loss=0.0659\n",
            "step 3800/20000 (epoch 190), loss=0.0690\n",
            "step 4000/20000 (epoch 200), loss=0.0876\n",
            "step 4200/20000 (epoch 210), loss=0.0684\n",
            "step 4400/20000 (epoch 220), loss=0.0643\n",
            "step 4600/20000 (epoch 230), loss=0.0592\n",
            "step 4800/20000 (epoch 240), loss=0.0552\n",
            "step 5000/20000 (epoch 250), loss=0.0599\n",
            "step 5200/20000 (epoch 260), loss=0.0605\n",
            "step 5400/20000 (epoch 270), loss=0.0630\n",
            "step 5600/20000 (epoch 280), loss=0.0665\n",
            "step 5800/20000 (epoch 290), loss=0.0587\n",
            "step 6000/20000 (epoch 300), loss=0.0615\n",
            "step 6200/20000 (epoch 310), loss=0.0793\n",
            "step 6400/20000 (epoch 320), loss=0.0571\n",
            "step 6600/20000 (epoch 330), loss=0.0542\n",
            "step 6800/20000 (epoch 340), loss=0.0513\n",
            "step 7000/20000 (epoch 350), loss=0.0631\n",
            "step 7200/20000 (epoch 360), loss=0.0587\n",
            "step 7400/20000 (epoch 370), loss=0.0848\n",
            "step 7600/20000 (epoch 380), loss=0.0651\n",
            "step 7800/20000 (epoch 390), loss=0.0689\n",
            "step 8000/20000 (epoch 400), loss=0.0672\n",
            "step 8200/20000 (epoch 410), loss=0.0630\n",
            "step 8400/20000 (epoch 420), loss=0.0629\n",
            "step 8600/20000 (epoch 430), loss=0.0665\n",
            "step 8800/20000 (epoch 440), loss=0.0671\n",
            "step 9000/20000 (epoch 450), loss=0.0609\n",
            "step 9200/20000 (epoch 460), loss=0.0631\n",
            "step 9400/20000 (epoch 470), loss=0.0531\n",
            "step 9600/20000 (epoch 480), loss=0.0663\n",
            "step 9800/20000 (epoch 490), loss=0.0712\n",
            "step 10000/20000 (epoch 500), loss=0.0571\n",
            "step 10200/20000 (epoch 510), loss=0.0538\n",
            "step 10400/20000 (epoch 520), loss=0.0585\n",
            "step 10600/20000 (epoch 530), loss=0.0602\n",
            "step 10800/20000 (epoch 540), loss=0.0625\n",
            "step 11000/20000 (epoch 550), loss=0.0539\n",
            "step 11200/20000 (epoch 560), loss=0.0620\n",
            "step 11400/20000 (epoch 570), loss=0.0501\n",
            "step 11600/20000 (epoch 580), loss=0.0620\n",
            "step 11800/20000 (epoch 590), loss=0.0751\n",
            "step 12000/20000 (epoch 600), loss=0.0483\n",
            "step 12200/20000 (epoch 610), loss=0.0475\n",
            "step 12400/20000 (epoch 620), loss=0.0561\n",
            "step 12600/20000 (epoch 630), loss=0.0525\n",
            "step 12800/20000 (epoch 640), loss=0.0530\n",
            "step 13000/20000 (epoch 650), loss=0.0495\n",
            "step 13200/20000 (epoch 660), loss=0.0538\n",
            "step 13400/20000 (epoch 670), loss=0.0626\n",
            "step 13600/20000 (epoch 680), loss=0.0555\n",
            "step 13800/20000 (epoch 690), loss=0.0420\n",
            "step 14000/20000 (epoch 700), loss=0.0377\n",
            "step 14200/20000 (epoch 710), loss=0.0505\n",
            "step 14400/20000 (epoch 720), loss=0.0595\n",
            "step 14600/20000 (epoch 730), loss=0.0523\n",
            "step 14800/20000 (epoch 740), loss=0.0438\n",
            "step 15000/20000 (epoch 750), loss=0.0436\n",
            "step 15200/20000 (epoch 760), loss=0.0613\n",
            "step 15400/20000 (epoch 770), loss=0.0589\n",
            "step 15600/20000 (epoch 780), loss=0.0663\n",
            "step 15800/20000 (epoch 790), loss=0.0500\n",
            "step 16000/20000 (epoch 800), loss=0.0472\n",
            "step 16200/20000 (epoch 810), loss=0.0539\n",
            "step 16400/20000 (epoch 820), loss=0.0474\n",
            "step 16600/20000 (epoch 830), loss=0.0488\n",
            "step 16800/20000 (epoch 840), loss=0.0532\n",
            "step 17000/20000 (epoch 850), loss=0.0460\n",
            "step 17200/20000 (epoch 860), loss=0.0575\n",
            "step 17400/20000 (epoch 870), loss=0.0637\n",
            "step 17600/20000 (epoch 880), loss=0.0430\n",
            "step 17800/20000 (epoch 890), loss=0.0444\n",
            "step 18000/20000 (epoch 900), loss=0.0520\n",
            "step 18200/20000 (epoch 910), loss=0.0560\n",
            "step 18400/20000 (epoch 920), loss=0.0459\n",
            "step 18600/20000 (epoch 930), loss=0.0458\n",
            "step 18800/20000 (epoch 940), loss=0.0504\n",
            "step 19000/20000 (epoch 950), loss=0.0574\n",
            "step 19200/20000 (epoch 960), loss=0.0390\n",
            "step 19400/20000 (epoch 970), loss=0.0628\n",
            "step 19600/20000 (epoch 980), loss=0.0605\n",
            "step 19800/20000 (epoch 990), loss=0.0511\n",
            "step 20000/20000 (epoch 1000), loss=0.0538\n"
          ]
        }
      ],
      "source": [
        "global_step = 0\n",
        "epoch = 0\n",
        "while global_step < target_steps:\n",
        "    for batch_images, labels in loader:\n",
        "        batch_images, labels = batch_images.to(device), labels.to(device)\n",
        "        x_t, t, noise = prepare_batch(batch_images, alpha_cumprod)\n",
        "        t_emb = time_embedding(t)\n",
        "        pred_noise = model(x_t, t_emb, labels)\n",
        "        loss = loss_fn(pred_noise, noise)\n",
        "\n",
        "        optimizer.zero_grad(set_to_none=True)\n",
        "        loss.backward()\n",
        "        torch.nn.utils.clip_grad_norm_(model.parameters(), grad_clip)\n",
        "        optimizer.step()\n",
        "        scheduler.step()\n",
        "\n",
        "        with torch.no_grad():\n",
        "            for ema_param, model_param in zip(ema_model.parameters(), model.parameters()):\n",
        "                ema_param.data.mul_(ema_decay).add_(model_param.data, alpha=1-ema_decay)\n",
        "\n",
        "        global_step += 1\n",
        "\n",
        "        if global_step % log_every_steps == 0:\n",
        "            print(f\"step {global_step}/{target_steps} (epoch {epoch+1}), loss={loss.item():.4f}\")\n",
        "\n",
        "        if global_step % sample_every_steps == 0:\n",
        "            with torch.no_grad():\n",
        "                labels = torch.tensor([0,1,2,3,4,5,6,7,8,9,0,1,2,3,4,5], device=device)\n",
        "                samples = generate_samples_ddim(ema_model, alpha, alpha_cumprod, beta, time_embedding, labels=labels, num_samples=16, steps=50, device=device)\n",
        "                save_image(samples, f'samples_step{global_step}.png', nrow=4)\n",
        "\n",
        "        if global_step >= target_steps:\n",
        "            break\n",
        "    epoch += 1"
      ]
    },
    {
      "cell_type": "code",
      "source": [
        "# Final sampling\n",
        "with torch.no_grad():\n",
        "    labels = torch.tensor([0,1,2,3,4,5,6,7,8,9,0,1,2,3,4,5], device=device)\n",
        "    samples = generate_samples_ddim(ema_model, alpha, alpha_cumprod, beta, time_embedding,\n",
        "                                    labels=labels, num_samples=16, steps=50, device=device)\n",
        "save_image(samples, 'samples_final.png', nrow=4)"
      ],
      "metadata": {
        "id": "fkVi9Bhcxk63"
      },
      "execution_count": 16,
      "outputs": []
    },
    {
      "cell_type": "code",
      "source": [
        "import matplotlib.pyplot as plt\n",
        "samples_cpu = samples.squeeze(1).cpu()\n",
        "fig, axes = plt.subplots(4, 4, figsize=(6,6))\n",
        "for i, ax in enumerate(axes.flatten()):\n",
        "    img = samples_cpu[i].numpy()\n",
        "    ax.imshow(img, cmap='gray_r', interpolation='nearest')\n",
        "    ax.axis('off')\n",
        "plt.tight_layout()\n",
        "plt.show()"
      ],
      "metadata": {
        "colab": {
          "base_uri": "https://localhost:8080/",
          "height": 607
        },
        "id": "eg7BzfUrxnMO",
        "outputId": "7ea8ad5b-bc1a-4b57-96ea-736feb51700c"
      },
      "execution_count": 17,
      "outputs": [
        {
          "output_type": "display_data",
          "data": {
            "text/plain": [
              "<Figure size 600x600 with 16 Axes>"
            ],
            "image/png": "[encoded data removed]"
          },
          "metadata": {}
        }
      ]
    }
  ]
}