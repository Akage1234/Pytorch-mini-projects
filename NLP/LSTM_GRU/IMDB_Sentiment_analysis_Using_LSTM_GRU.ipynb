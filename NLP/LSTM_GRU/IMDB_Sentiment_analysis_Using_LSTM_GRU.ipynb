{
  "nbformat": 4,
  "nbformat_minor": 0,
  "metadata": {
    "colab": {
      "provenance": [],
      "gpuType": "T4",
      "include_colab_link": true
    },
    "kernelspec": {
      "name": "python3",
      "display_name": "Python 3"
    },
    "language_info": {
      "name": "python"
    },
    "accelerator": "GPU"
  },
  "cells": [
    {
      "cell_type": "markdown",
      "metadata": {
        "id": "view-in-github",
        "colab_type": "text"
      },
      "source": [
        "<a href=\"https://colab.research.google.com/github/Akage1234/Pytorch-mini-projects/blob/main/NLP/LSTM_GRU/IMDB_Sentiment_analysis_Using_LSTM_GRU.ipynb\" target=\"_parent\"><img src=\"https://colab.research.google.com/assets/colab-badge.svg\" alt=\"Open In Colab\"/></a>"
      ]
    },
    {
      "cell_type": "code",
      "source": [
        "import torch\n",
        "import random\n",
        "import numpy as np"
      ],
      "metadata": {
        "id": "wOpglm_HYEK8"
      },
      "execution_count": null,
      "outputs": []
    },
    {
      "cell_type": "code",
      "execution_count": null,
      "metadata": {
        "colab": {
          "base_uri": "https://localhost:8080/"
        },
        "id": "IB1H8PsuTV9N",
        "outputId": "0c6f9f17-b3f1-4ce2-a1b3-0985fa0dba20"
      },
      "outputs": [
        {
          "output_type": "stream",
          "name": "stdout",
          "text": [
            "using device: cuda\n"
          ]
        }
      ],
      "source": [
        "device = \"cuda\" if torch.cuda.is_available() else \"cpu\"\n",
        "print(f\"using device: {device}\")"
      ]
    },
    {
      "cell_type": "code",
      "source": [
        "random.seed(42)\n",
        "np.random.seed(42)\n",
        "torch.manual_seed(42)\n",
        "torch.cuda.manual_seed(42)\n",
        "torch.cuda.manual_seed_all(42)\n",
        "torch.backends.cudnn.deterministic = True\n",
        "torch.backends.cudnn.benchmark = False"
      ],
      "metadata": {
        "id": "Yfq9tjciYL_A"
      },
      "execution_count": null,
      "outputs": []
    },
    {
      "cell_type": "markdown",
      "source": [
        "# 1. Loading Dataset"
      ],
      "metadata": {
        "id": "zs2OGStkUCFk"
      }
    },
    {
      "cell_type": "markdown",
      "source": [
        "Import from kaggle"
      ],
      "metadata": {
        "id": "EybAcvfgqXtu"
      }
    },
    {
      "cell_type": "code",
      "source": [
        "from google.colab import files\n",
        "key = files.upload()"
      ],
      "metadata": {
        "id": "ZP-jicrNqDXy"
      },
      "execution_count": null,
      "outputs": []
    },
    {
      "cell_type": "code",
      "source": [
        "!mkdir -p ~/.kaggle\n",
        "!mv kaggle.json ~/.kaggle/\n",
        "!chmod 600 ~/.kaggle/kaggle.json"
      ],
      "metadata": {
        "id": "TrdOfm-lqioz"
      },
      "execution_count": null,
      "outputs": []
    },
    {
      "cell_type": "code",
      "source": [
        "!pip install -q kaggle"
      ],
      "metadata": {
        "id": "YPzVI2MfrXi_"
      },
      "execution_count": null,
      "outputs": []
    },
    {
      "cell_type": "code",
      "source": [
        "!kaggle datasets download pawankumargunjan/imdb-review"
      ],
      "metadata": {
        "colab": {
          "base_uri": "https://localhost:8080/"
        },
        "id": "3ob8oybrrlE-",
        "outputId": "659bfe4a-3cfc-4b6b-abb7-f7607b210e62"
      },
      "execution_count": null,
      "outputs": [
        {
          "output_type": "stream",
          "name": "stdout",
          "text": [
            "Dataset URL: https://www.kaggle.com/datasets/pawankumargunjan/imdb-review\n",
            "License(s): GNU Lesser General Public License 3.0\n",
            "Downloading imdb-review.zip to /content\n",
            " 99% 110M/111M [00:00<00:00, 1.11GB/s]\n",
            "100% 111M/111M [00:00<00:00, 1.08GB/s]\n"
          ]
        }
      ]
    },
    {
      "cell_type": "code",
      "source": [
        "!mkdir -p imdb\n",
        "!unzip -q imdb-review.zip -d imdb"
      ],
      "metadata": {
        "id": "2ETc6MEfrppF"
      },
      "execution_count": null,
      "outputs": []
    },
    {
      "cell_type": "markdown",
      "source": [
        "or download manually from https://www.kaggle.com/datasets/pawankumargunjan/imdb-review/data"
      ],
      "metadata": {
        "id": "ovgNXIHKsG6a"
      }
    },
    {
      "cell_type": "code",
      "source": [
        "import os\n",
        "\n",
        "train_texts, train_labels = [], []\n",
        "test_texts, test_labels = [], []\n",
        "\n",
        "for label_type in [\"pos\", \"neg\"]:\n",
        "    train_dir = f\"/content/imdb/aclImdb/train/{label_type}\"\n",
        "    for filename in os.listdir(train_dir):\n",
        "        if filename.endswith(\".txt\"):\n",
        "            with open(os.path.join(train_dir, filename), \"r\", encoding=\"utf-8\") as f:\n",
        "                train_texts.append(f.read())\n",
        "            train_labels.append(1 if label_type == \"pos\" else 0)\n",
        "\n",
        "    test_dir = f\"/content/imdb/aclImdb/test/{label_type}\"\n",
        "    for filename in os.listdir(test_dir):\n",
        "        if filename.endswith(\".txt\"):\n",
        "            with open(os.path.join(test_dir, filename), \"r\", encoding=\"utf-8\") as f:\n",
        "                test_texts.append(f.read())\n",
        "            test_labels.append(1 if label_type == \"pos\" else 0)"
      ],
      "metadata": {
        "id": "6tY0gAzRu59z"
      },
      "execution_count": null,
      "outputs": []
    },
    {
      "cell_type": "code",
      "source": [
        "print(len(train_texts), len(train_labels))\n",
        "print(len(test_texts), len(test_labels))"
      ],
      "metadata": {
        "colab": {
          "base_uri": "https://localhost:8080/"
        },
        "id": "YkxX8RQUwF8s",
        "outputId": "c3b9ecb1-4561-4023-9616-87c3b988633f"
      },
      "execution_count": null,
      "outputs": [
        {
          "output_type": "stream",
          "name": "stdout",
          "text": [
            "25000 25000\n",
            "25000 25000\n"
          ]
        }
      ]
    },
    {
      "cell_type": "code",
      "source": [
        "# downloading embeddings\n",
        "import requests\n",
        "import zipfile\n",
        "import os\n",
        "\n",
        "def download_glove(url: str, save_path: str):\n",
        "    with requests.get(url, stream=True) as r:\n",
        "        r.raise_for_status()\n",
        "        with open(save_path, 'wb') as f:\n",
        "            for chunk in r.iter_content(chunk_size=8192):\n",
        "                f.write(chunk)\n",
        "\n",
        "url = \"https://nlp.stanford.edu/data/wordvecs/glove.2024.wikigiga.100d.zip\"\n",
        "save_path = \"glove.2024.wikigiga.100d.zip\"\n",
        "glove_path = \"./glove_100d\"\n",
        "\n",
        "os.makedirs(glove_path, exist_ok=True)\n",
        "download_glove(url, save_path)\n",
        "with zipfile.ZipFile(save_path, 'r') as z:\n",
        "    z.extractall(glove_path)\n",
        "\n",
        "print(\"Downloaded & extracted to:\", glove_path)"
      ],
      "metadata": {
        "colab": {
          "base_uri": "https://localhost:8080/"
        },
        "id": "syucjHu-2hh5",
        "outputId": "2cb05791-744d-446a-827e-455dfba37fe9"
      },
      "execution_count": null,
      "outputs": [
        {
          "output_type": "stream",
          "name": "stdout",
          "text": [
            "Downloaded & extracted to: ./glove_100d\n"
          ]
        }
      ]
    },
    {
      "cell_type": "markdown",
      "source": [
        "# 2. Preprocessing"
      ],
      "metadata": {
        "id": "lgz5fuvR2uF8"
      }
    },
    {
      "cell_type": "code",
      "source": [
        "import nltk\n",
        "from collections import Counter\n",
        "\n",
        "nltk.download('punkt_tab')"
      ],
      "metadata": {
        "colab": {
          "base_uri": "https://localhost:8080/"
        },
        "id": "sh_cWxiB6aJb",
        "outputId": "fec639a7-8680-4b84-ec2f-39e0546d2a24"
      },
      "execution_count": null,
      "outputs": [
        {
          "output_type": "stream",
          "name": "stderr",
          "text": [
            "[nltk_data] Downloading package punkt_tab to /root/nltk_data...\n",
            "[nltk_data]   Unzipping tokenizers/punkt_tab.zip.\n"
          ]
        },
        {
          "output_type": "execute_result",
          "data": {
            "text/plain": [
              "True"
            ]
          },
          "metadata": {},
          "execution_count": 12
        }
      ]
    },
    {
      "cell_type": "code",
      "source": [
        "def build_vocab(texts, min_freq = 2, max_size=20000):\n",
        "    counter = Counter()\n",
        "    for text in texts:\n",
        "        counter.update(nltk.word_tokenize(text))\n",
        "\n",
        "    vocab = {\"<pad>\":0, \"<unk>\":1}\n",
        "\n",
        "    for word, freq in counter.most_common(max_size - len(vocab)):\n",
        "        if freq >= min_freq:\n",
        "            vocab[word] = len(vocab)\n",
        "\n",
        "    return vocab\n",
        "\n",
        "word2idx = build_vocab(train_texts)\n",
        "idx2word = {i: w for w, i in word2idx.items()}"
      ],
      "metadata": {
        "id": "G4N3SBWkC1Aq"
      },
      "execution_count": null,
      "outputs": []
    },
    {
      "cell_type": "code",
      "source": [
        "import pickle\n",
        "\n",
        "# saving vocab\n",
        "vocab = {\"word2idx\": word2idx, \"idx2word\": idx2word}\n",
        "with open(\"vocab.pkl\", \"wb\") as f:\n",
        "    pickle.dump(vocab, f)"
      ],
      "metadata": {
        "id": "c17s0zOYGi1_"
      },
      "execution_count": null,
      "outputs": []
    },
    {
      "cell_type": "code",
      "source": [
        "def collate_fn(batch):\n",
        "    texts, labels = zip(*batch)\n",
        "    lengths = torch.tensor([len(t) for t in texts], dtype=torch.long)\n",
        "    max_len = lengths.max().item()\n",
        "\n",
        "    padded = torch.zeros(len(texts), max_len, dtype=torch.long) + word2idx[\"<pad>\"]\n",
        "    for i, t in enumerate(texts):\n",
        "        padded[i, :len(t)] = t\n",
        "\n",
        "    labels = torch.tensor(labels, dtype=torch.long)\n",
        "    return padded, labels, lengths\n",
        "\n",
        "def preprocess(text):\n",
        "    tokens = nltk.word_tokenize(text)\n",
        "    ids = [word2idx.get(tok, word2idx[\"<unk>\"]) for tok in tokens]\n",
        "    return torch.tensor(ids, dtype=torch.long)"
      ],
      "metadata": {
        "id": "MSgnw0wE2suT"
      },
      "execution_count": null,
      "outputs": []
    },
    {
      "cell_type": "code",
      "source": [
        "from torch.utils.data import DataLoader, Dataset, SubsetRandomSampler\n",
        "from sklearn.model_selection import train_test_split\n",
        "\n",
        "class IMDBDataset(Dataset):\n",
        "    def __init__(self, texts, labels, transform=None):\n",
        "        self.texts = texts\n",
        "        self.labels = labels\n",
        "        self.transform = transform\n",
        "\n",
        "    def __len__(self):\n",
        "        return len(self.texts)\n",
        "\n",
        "    def __getitem__(self, id):\n",
        "        texts, labels = self.texts[id], self.labels[id]\n",
        "        if self.transform:\n",
        "            texts = self.transform(texts)\n",
        "        return texts, labels\n",
        "\n",
        "train_x, val_x, train_y, val_y = train_test_split(train_texts, train_labels,test_size=0.2, stratify=train_labels,random_state=42)\n",
        "\n",
        "train_data = IMDBDataset(train_x, train_y, transform=preprocess)\n",
        "val_data = IMDBDataset(val_x, val_y, transform=preprocess)\n",
        "test_data = IMDBDataset(test_texts, test_labels, transform=preprocess)"
      ],
      "metadata": {
        "id": "6j8krFuxsPU6"
      },
      "execution_count": null,
      "outputs": []
    },
    {
      "cell_type": "code",
      "source": [
        "train_loader = DataLoader(train_data,batch_size=64, shuffle=True, collate_fn=collate_fn, num_workers=2, pin_memory=True)\n",
        "val_loader = DataLoader(val_data, batch_size=64, shuffle=False, collate_fn=collate_fn, num_workers=2, pin_memory=True)\n",
        "test_loader = DataLoader(test_data, batch_size=64, shuffle=False, collate_fn = collate_fn, num_workers=2, pin_memory=True)"
      ],
      "metadata": {
        "id": "Azdp8X-uyPDb"
      },
      "execution_count": null,
      "outputs": []
    },
    {
      "cell_type": "markdown",
      "source": [
        "# 3. Model"
      ],
      "metadata": {
        "id": "ixNIy63XIeLP"
      }
    },
    {
      "cell_type": "code",
      "source": [
        "# Building Embedding matrix\n",
        "glove_path = '/content/glove_100d/wiki_giga_2024_100_MFT20_vectors_seed_2024_alpha_0.75_eta_0.05.050_combined.txt'\n",
        "def building_embedding_matrix(word2idx, glove_path=glove_path,embed_dim=100 ):\n",
        "    embeddings_idx = {}\n",
        "    with open(glove_path, 'r', encoding='utf-8') as f:\n",
        "        for i, line in enumerate(f):\n",
        "            values = line.strip().strip(\"'\")\n",
        "            values = values.split()\n",
        "            word = values[0]\n",
        "            try:\n",
        "                vector = np.asarray(values[1:], dtype=np.float32)\n",
        "                if len(vector) != embed_dim:\n",
        "                    continue\n",
        "                embeddings_idx[word] = vector\n",
        "            except ValueError:\n",
        "                continue\n",
        "    print(f\"Loaded {len(embeddings_idx)} word vectors.\")\n",
        "    vocab_size = len(word2idx)\n",
        "    embedding_matrix = np.random.normal(0, 0.1, (vocab_size, embed_dim))\n",
        "    for word, idx in word2idx.items():\n",
        "        if word in embeddings_idx:\n",
        "            embedding_matrix[idx] = embeddings_idx[word]\n",
        "\n",
        "    return torch.tensor(embedding_matrix, dtype=torch.float32)\n",
        "\n",
        "embedding_matrix = building_embedding_matrix(word2idx)"
      ],
      "metadata": {
        "id": "fOwgB1ug1y2l",
        "colab": {
          "base_uri": "https://localhost:8080/"
        },
        "collapsed": true,
        "outputId": "2b87e88d-7a27-4612-9096-3b1b8b211756"
      },
      "execution_count": null,
      "outputs": [
        {
          "output_type": "stream",
          "name": "stdout",
          "text": [
            "Loaded 1287490 word vectors.\n"
          ]
        }
      ]
    },
    {
      "cell_type": "code",
      "source": [
        "embedding_matrix"
      ],
      "metadata": {
        "colab": {
          "base_uri": "https://localhost:8080/"
        },
        "id": "dKj74h1uPu3F",
        "outputId": "7962346d-cd29-4208-b133-0aba58363376"
      },
      "execution_count": null,
      "outputs": [
        {
          "output_type": "execute_result",
          "data": {
            "text/plain": [
              "tensor([[ 4.9671e-02, -1.3826e-02,  6.4769e-02,  ...,  2.6106e-02,\n",
              "          5.1135e-04, -2.3459e-02],\n",
              "        [-1.5577e-01, -7.3595e-02,  2.1258e-01,  ..., -2.8095e-02,\n",
              "         -9.4901e-02,  4.1100e-04],\n",
              "        [ 3.0672e-01, -3.2053e-01, -3.9365e-01,  ...,  1.2716e-01,\n",
              "         -2.9899e-02,  2.4711e-01],\n",
              "        ...,\n",
              "        [ 3.5891e-01, -8.5166e-01,  3.8297e-02,  ..., -1.4017e+00,\n",
              "          3.2602e-01, -2.2778e-01],\n",
              "        [ 3.5972e-01, -1.4532e-01,  5.8886e-01,  ..., -5.5901e-02,\n",
              "         -1.9415e-01, -5.7123e-01],\n",
              "        [ 2.6368e-01,  3.4892e-01,  3.5927e-01,  ...,  4.3119e-01,\n",
              "          1.3961e-02, -1.9262e-01]])"
            ]
          },
          "metadata": {},
          "execution_count": 46
        }
      ]
    },
    {
      "cell_type": "code",
      "source": [
        "import torch.nn as nn\n",
        "from torch.nn.utils.rnn import pack_padded_sequence, pad_packed_sequence\n",
        "\n",
        "class LSTMModel(nn.Module):\n",
        "    def __init__(self, vocab_size, embed_size, hidden_size, output_size):\n",
        "        super().__init__()\n",
        "        self.embedding = nn.Embedding.from_pretrained(embedding_matrix, freeze=False)\n",
        "        self.lstm = nn.LSTM(embed_size, hidden_size=hidden_size, batch_first=True)\n",
        "        self.fc = nn.Linear(hidden_size, output_size)\n",
        "\n",
        "    def forward(self, x, lengths):\n",
        "        x = self.embedding(x)\n",
        "        lengths = lengths.view(-1).cpu()\n",
        "        packed_x = pack_padded_sequence(x, lengths, batch_first=True, enforce_sorted=False)\n",
        "        packed_output, (h_n, c_n) = self.lstm(packed_x)\n",
        "        last_hidden = h_n[-1]\n",
        "        out = self.fc(last_hidden)\n",
        "        return out\n",
        "\n",
        "class GRUModel(nn.Module):\n",
        "    def __init__(self, vocab_size, embed_size, hidden_size, output_size):\n",
        "        super().__init__()\n",
        "        self.embedding = nn.Embedding.from_pretrained(embedding_matrix, freeze=False)\n",
        "        self.gru = nn.GRU(embed_size, hidden_size=hidden_size, batch_first=True)\n",
        "        self.fc = nn.Linear(hidden_size, output_size)\n",
        "\n",
        "    def forward(self, x, lengths):\n",
        "        x = self.embedding(x)\n",
        "        output,  h_n = self.gru(x)\n",
        "        last_indices = lengths - 1\n",
        "        last_indices = last_indices.view(-1, 1, 1).expand(-1, 1, self.fc.in_features)\n",
        "        last_output = torch.gather(output, 1, last_indices).squeeze(1)\n",
        "        out = self.fc(last_output)\n",
        "        return out"
      ],
      "metadata": {
        "id": "rsvXwoyEIhia"
      },
      "execution_count": null,
      "outputs": []
    },
    {
      "cell_type": "code",
      "source": [
        "vocab_size = len(word2idx)\n",
        "embed_size = 100\n",
        "hidden_size = 128\n",
        "output_size = 2\n",
        "lstm_model = LSTMModel(vocab_size, embed_size, hidden_size, output_size)\n",
        "lstm_model = lstm_model.to(device)\n",
        "gru_model = GRUModel(vocab_size, embed_size, hidden_size, output_size)\n",
        "gru_model = gru_model.to(device)"
      ],
      "metadata": {
        "id": "ITP1kgJkQ1ny"
      },
      "execution_count": null,
      "outputs": []
    },
    {
      "cell_type": "markdown",
      "source": [
        "# 4. Training (To use pretrained skip to 6. Testing)"
      ],
      "metadata": {
        "id": "oR9a6Bt3RlmR"
      }
    },
    {
      "cell_type": "code",
      "source": [
        "import torch.optim as optim\n",
        "from tqdm import tqdm"
      ],
      "metadata": {
        "id": "aKmQx7QFR9Y9"
      },
      "execution_count": null,
      "outputs": []
    },
    {
      "cell_type": "code",
      "source": [
        "n_epochs = 10\n",
        "learning_rate = 1e-4\n",
        "optimizerLSTM = optim.Adam(lstm_model.parameters(), lr=learning_rate)\n",
        "optimizerGRU = optim.Adam(gru_model.parameters(), lr=learning_rate)\n",
        "criterion = nn.CrossEntropyLoss()"
      ],
      "metadata": {
        "id": "MEWkYv1-Rj6y"
      },
      "execution_count": null,
      "outputs": []
    },
    {
      "cell_type": "code",
      "source": [
        "def train_model(model, train_loader, val_loader, optimizer, criterion, n_epochs=5, learning_rate=1e-3):\n",
        "    best_val_loss = float(\"inf\")\n",
        "    train_losses, val_losses = [], []\n",
        "    train_accs, val_accs = [], []\n",
        "\n",
        "    for epoch in range(n_epochs):\n",
        "        with tqdm(len(train_loader)+len(val_loader), desc=f\"Epoch:{epoch+1}/{n_epochs}\") as pbar:\n",
        "            model.train()\n",
        "            total_loss, correct, total = 0.0, 0, 0\n",
        "            for batch, labels, lengths in train_loader:\n",
        "                batch = batch.to(device)\n",
        "                labels = labels.to(device)\n",
        "                lengths = lengths.to(device)\n",
        "\n",
        "                pred = model(batch, lengths)\n",
        "                loss = criterion(pred, labels)\n",
        "                total_loss += loss.item()\n",
        "                optimizer.zero_grad()\n",
        "                loss.backward()\n",
        "                optimizer.step()\n",
        "\n",
        "                preds = pred.argmax(dim=1)\n",
        "                correct += (preds == labels).sum().item()\n",
        "                total += labels.size(0)\n",
        "\n",
        "                pbar.update(1)\n",
        "\n",
        "            avg_train_loss = total_loss/len(train_loader)\n",
        "            train_acc = 100 * correct / total\n",
        "            train_losses.append(avg_train_loss)\n",
        "            train_accs.append(train_acc)\n",
        "\n",
        "            model.eval()\n",
        "            val_loss, correct, total = 0, 0, 0\n",
        "            with torch.no_grad():\n",
        "                for batch, labels, lengths in val_loader:\n",
        "                    batch, labels, lengths = batch.to(device), labels.to(device), lengths.to(device)\n",
        "\n",
        "                    pred = model(batch, lengths)\n",
        "                    loss = criterion(pred, labels)\n",
        "                    val_loss += loss.item()\n",
        "\n",
        "                    preds = pred.argmax(dim=1)\n",
        "                    correct += (preds==labels).sum().item()\n",
        "                    total += labels.size(0)\n",
        "\n",
        "                    pbar.update(1)\n",
        "\n",
        "            avg_val_loss = val_loss/len(val_loader)\n",
        "            val_acc = 100 * correct / total\n",
        "            val_losses.append(avg_val_loss)\n",
        "            val_accs.append(val_acc)\n",
        "\n",
        "            if avg_val_loss < best_val_loss:\n",
        "                best_val_loss = avg_val_loss\n",
        "                torch.save(model.state_dict(),f\"best_{model.__class__.__name__}.pth\")\n",
        "\n",
        "        print(f\"Epoch: {epoch+1}/{n_epochs} | train_loss:{avg_train_loss:.4f} | train_accuracy:{train_acc:.2f} | val_loss: {avg_val_loss:.4f} | val_accuracy:{val_acc:.2f}\")\n",
        "    return train_losses, val_losses, train_accs, val_accs"
      ],
      "metadata": {
        "id": "nigHTDYEVHtM"
      },
      "execution_count": null,
      "outputs": []
    },
    {
      "cell_type": "code",
      "source": [
        "train_losses, val_losses, train_accs, val_accs = train_model(lstm_model, train_loader, val_loader, optimizerLSTM, criterion, n_epochs, learning_rate)"
      ],
      "metadata": {
        "id": "MqpSUq48g8mo",
        "colab": {
          "base_uri": "https://localhost:8080/"
        },
        "outputId": "7d117070-4962-48dc-9e30-2ca2c7a68197"
      },
      "execution_count": null,
      "outputs": [
        {
          "output_type": "stream",
          "name": "stderr",
          "text": [
            "Epoch:1/10: 392it [00:45,  8.63it/s]\n"
          ]
        },
        {
          "output_type": "stream",
          "name": "stdout",
          "text": [
            "Epoch: 1/10 | train_loss:0.6040 | train_accuracy:66.92 | val_loss: 0.4480 | val_accuracy:80.54\n"
          ]
        },
        {
          "output_type": "stream",
          "name": "stderr",
          "text": [
            "Epoch:2/10: 392it [00:42,  9.27it/s]\n"
          ]
        },
        {
          "output_type": "stream",
          "name": "stdout",
          "text": [
            "Epoch: 2/10 | train_loss:0.4283 | train_accuracy:81.80 | val_loss: 0.4114 | val_accuracy:81.52\n"
          ]
        },
        {
          "output_type": "stream",
          "name": "stderr",
          "text": [
            "Epoch:3/10: 392it [00:42,  9.26it/s]\n"
          ]
        },
        {
          "output_type": "stream",
          "name": "stdout",
          "text": [
            "Epoch: 3/10 | train_loss:0.3827 | train_accuracy:84.23 | val_loss: 0.3842 | val_accuracy:83.70\n"
          ]
        },
        {
          "output_type": "stream",
          "name": "stderr",
          "text": [
            "Epoch:4/10: 392it [00:41,  9.35it/s]\n"
          ]
        },
        {
          "output_type": "stream",
          "name": "stdout",
          "text": [
            "Epoch: 4/10 | train_loss:0.3086 | train_accuracy:87.93 | val_loss: 0.3336 | val_accuracy:86.30\n"
          ]
        },
        {
          "output_type": "stream",
          "name": "stderr",
          "text": [
            "Epoch:5/10: 392it [00:44,  8.81it/s]\n"
          ]
        },
        {
          "output_type": "stream",
          "name": "stdout",
          "text": [
            "Epoch: 5/10 | train_loss:0.2695 | train_accuracy:89.64 | val_loss: 0.3171 | val_accuracy:86.76\n"
          ]
        },
        {
          "output_type": "stream",
          "name": "stderr",
          "text": [
            "Epoch:6/10: 392it [00:41,  9.39it/s]\n"
          ]
        },
        {
          "output_type": "stream",
          "name": "stdout",
          "text": [
            "Epoch: 6/10 | train_loss:0.2542 | train_accuracy:90.47 | val_loss: 0.3240 | val_accuracy:87.66\n"
          ]
        },
        {
          "output_type": "stream",
          "name": "stderr",
          "text": [
            "Epoch:7/10: 392it [00:42,  9.20it/s]\n"
          ]
        },
        {
          "output_type": "stream",
          "name": "stdout",
          "text": [
            "Epoch: 7/10 | train_loss:0.2268 | train_accuracy:91.52 | val_loss: 0.3218 | val_accuracy:86.22\n"
          ]
        },
        {
          "output_type": "stream",
          "name": "stderr",
          "text": [
            "Epoch:8/10: 392it [00:42,  9.25it/s]\n"
          ]
        },
        {
          "output_type": "stream",
          "name": "stdout",
          "text": [
            "Epoch: 8/10 | train_loss:0.2035 | train_accuracy:92.70 | val_loss: 0.2974 | val_accuracy:88.28\n"
          ]
        },
        {
          "output_type": "stream",
          "name": "stderr",
          "text": [
            "Epoch:9/10: 392it [00:41,  9.36it/s]\n"
          ]
        },
        {
          "output_type": "stream",
          "name": "stdout",
          "text": [
            "Epoch: 9/10 | train_loss:0.1884 | train_accuracy:93.35 | val_loss: 0.3007 | val_accuracy:87.92\n"
          ]
        },
        {
          "output_type": "stream",
          "name": "stderr",
          "text": [
            "Epoch:10/10: 392it [00:41,  9.39it/s]"
          ]
        },
        {
          "output_type": "stream",
          "name": "stdout",
          "text": [
            "Epoch: 10/10 | train_loss:0.1746 | train_accuracy:93.98 | val_loss: 0.3497 | val_accuracy:88.36\n"
          ]
        },
        {
          "output_type": "stream",
          "name": "stderr",
          "text": [
            "\n"
          ]
        }
      ]
    },
    {
      "cell_type": "code",
      "source": [
        "import matplotlib.pyplot as plt\n",
        "plt.plot(train_losses, label=\"Train Loss\")\n",
        "plt.plot(val_losses, label=\"Val Loss\")\n",
        "plt.legend()\n",
        "plt.xlabel(\"Epoch\")\n",
        "plt.ylabel(\"Loss\")\n",
        "plt.title(\"Loss Curve\")\n",
        "plt.show()\n",
        "\n",
        "plt.plot(train_accs, label=\"Train Acc\")\n",
        "plt.plot(val_accs, label=\"Val Acc\")\n",
        "plt.legend()\n",
        "plt.xlabel(\"Epoch\")\n",
        "plt.ylabel(\"Accuracy\")\n",
        "plt.title(\"Accuracy Curve\")\n",
        "plt.show()"
      ],
      "metadata": {
        "id": "BxGN8DC_nEl7",
        "colab": {
          "base_uri": "https://localhost:8080/",
          "height": 927
        },
        "outputId": "0ef9a178-499e-44fc-dd28-a2d1b4c8df55"
      },
      "execution_count": null,
      "outputs": [
        {
          "output_type": "display_data",
          "data": {
            "text/plain": [
              "<Figure size 640x480 with 1 Axes>"
            ],
            "image/png": "[encoded data removed]"
          },
          "metadata": {}
        },
        {
          "output_type": "display_data",
          "data": {
            "text/plain": [
              "<Figure size 640x480 with 1 Axes>"
            ],
            "image/png": "[encoded data removed]"
          },
          "metadata": {}
        }
      ]
    },
    {
      "cell_type": "code",
      "source": [
        "train_losses, val_losses, train_accs, val_accs = train_model(gru_model, train_loader, val_loader, optimizerGRU, criterion, n_epochs, learning_rate)"
      ],
      "metadata": {
        "id": "hOhnG9mxhKZl",
        "colab": {
          "base_uri": "https://localhost:8080/"
        },
        "outputId": "884ad771-e0c4-4a10-93a5-72254147fd0a"
      },
      "execution_count": null,
      "outputs": [
        {
          "output_type": "stream",
          "name": "stderr",
          "text": [
            "Epoch:1/10: 392it [00:35, 11.17it/s]\n"
          ]
        },
        {
          "output_type": "stream",
          "name": "stdout",
          "text": [
            "Epoch: 1/10 | train_loss:0.6427 | train_accuracy:63.56 | val_loss: 0.4956 | val_accuracy:76.94\n"
          ]
        },
        {
          "output_type": "stream",
          "name": "stderr",
          "text": [
            "Epoch:2/10: 392it [00:32, 11.90it/s]\n"
          ]
        },
        {
          "output_type": "stream",
          "name": "stdout",
          "text": [
            "Epoch: 2/10 | train_loss:0.3866 | train_accuracy:83.83 | val_loss: 0.3581 | val_accuracy:84.72\n"
          ]
        },
        {
          "output_type": "stream",
          "name": "stderr",
          "text": [
            "Epoch:3/10: 392it [00:32, 12.04it/s]\n"
          ]
        },
        {
          "output_type": "stream",
          "name": "stdout",
          "text": [
            "Epoch: 3/10 | train_loss:0.2944 | train_accuracy:88.59 | val_loss: 0.3449 | val_accuracy:85.52\n"
          ]
        },
        {
          "output_type": "stream",
          "name": "stderr",
          "text": [
            "Epoch:4/10: 392it [00:33, 11.65it/s]\n"
          ]
        },
        {
          "output_type": "stream",
          "name": "stdout",
          "text": [
            "Epoch: 4/10 | train_loss:0.2507 | train_accuracy:90.47 | val_loss: 0.3106 | val_accuracy:87.42\n"
          ]
        },
        {
          "output_type": "stream",
          "name": "stderr",
          "text": [
            "Epoch:5/10: 392it [00:32, 11.97it/s]\n"
          ]
        },
        {
          "output_type": "stream",
          "name": "stdout",
          "text": [
            "Epoch: 5/10 | train_loss:0.2190 | train_accuracy:91.94 | val_loss: 0.2974 | val_accuracy:87.74\n"
          ]
        },
        {
          "output_type": "stream",
          "name": "stderr",
          "text": [
            "Epoch:6/10: 392it [00:32, 12.08it/s]\n"
          ]
        },
        {
          "output_type": "stream",
          "name": "stdout",
          "text": [
            "Epoch: 6/10 | train_loss:0.1901 | train_accuracy:93.30 | val_loss: 0.2951 | val_accuracy:88.10\n"
          ]
        },
        {
          "output_type": "stream",
          "name": "stderr",
          "text": [
            "Epoch:7/10: 392it [00:34, 11.53it/s]\n"
          ]
        },
        {
          "output_type": "stream",
          "name": "stdout",
          "text": [
            "Epoch: 7/10 | train_loss:0.1729 | train_accuracy:94.06 | val_loss: 0.2881 | val_accuracy:88.66\n"
          ]
        },
        {
          "output_type": "stream",
          "name": "stderr",
          "text": [
            "Epoch:8/10: 392it [00:33, 11.61it/s]\n"
          ]
        },
        {
          "output_type": "stream",
          "name": "stdout",
          "text": [
            "Epoch: 8/10 | train_loss:0.1550 | train_accuracy:94.85 | val_loss: 0.2800 | val_accuracy:88.80\n"
          ]
        },
        {
          "output_type": "stream",
          "name": "stderr",
          "text": [
            "Epoch:9/10: 392it [00:33, 11.73it/s]\n"
          ]
        },
        {
          "output_type": "stream",
          "name": "stdout",
          "text": [
            "Epoch: 9/10 | train_loss:0.1424 | train_accuracy:95.31 | val_loss: 0.3028 | val_accuracy:89.32\n"
          ]
        },
        {
          "output_type": "stream",
          "name": "stderr",
          "text": [
            "Epoch:10/10: 392it [00:32, 11.89it/s]"
          ]
        },
        {
          "output_type": "stream",
          "name": "stdout",
          "text": [
            "Epoch: 10/10 | train_loss:0.1639 | train_accuracy:94.10 | val_loss: 0.2857 | val_accuracy:88.80\n"
          ]
        },
        {
          "output_type": "stream",
          "name": "stderr",
          "text": [
            "\n"
          ]
        }
      ]
    },
    {
      "cell_type": "code",
      "source": [
        "import matplotlib.pyplot as plt\n",
        "plt.plot(train_losses, label=\"Train Loss\")\n",
        "plt.plot(val_losses, label=\"Val Loss\")\n",
        "plt.legend()\n",
        "plt.xlabel(\"Epoch\")\n",
        "plt.ylabel(\"Loss\")\n",
        "plt.title(\"Loss Curve\")\n",
        "plt.show()\n",
        "\n",
        "plt.plot(train_accs, label=\"Train Acc\")\n",
        "plt.plot(val_accs, label=\"Val Acc\")\n",
        "plt.legend()\n",
        "plt.xlabel(\"Epoch\")\n",
        "plt.ylabel(\"Accuracy\")\n",
        "plt.title(\"Accuracy Curve\")\n",
        "plt.show()"
      ],
      "metadata": {
        "id": "-oZZrBRynQnF",
        "colab": {
          "base_uri": "https://localhost:8080/",
          "height": 927
        },
        "outputId": "df0b7dfd-8500-41c3-c076-f56cda6d1cca"
      },
      "execution_count": null,
      "outputs": [
        {
          "output_type": "display_data",
          "data": {
            "text/plain": [
              "<Figure size 640x480 with 1 Axes>"
            ],
            "image/png": "[encoded data removed]"
          },
          "metadata": {}
        },
        {
          "output_type": "display_data",
          "data": {
            "text/plain": [
              "<Figure size 640x480 with 1 Axes>"
            ],
            "image/png": "[encoded data removed]"
          },
          "metadata": {}
        }
      ]
    },
    {
      "cell_type": "markdown",
      "source": [
        "# 5. Validation"
      ],
      "metadata": {
        "id": "e7hKjUXaf06M"
      }
    },
    {
      "cell_type": "code",
      "source": [
        "import matplotlib.pyplot as plt\n",
        "import seaborn as sns\n",
        "from sklearn.metrics import confusion_matrix, classification_report"
      ],
      "metadata": {
        "id": "V1I0FYldo2TV"
      },
      "execution_count": null,
      "outputs": []
    },
    {
      "cell_type": "code",
      "source": [
        "model = LSTMModel(vocab_size, embed_size, hidden_size, output_size).to(device)\n",
        "model.load_state_dict(torch.load(f\"best_{model.__class__.__name__}.pth\"))\n",
        "model.eval()"
      ],
      "metadata": {
        "id": "SOsIaNVzYNE3",
        "colab": {
          "base_uri": "https://localhost:8080/"
        },
        "outputId": "1e37d797-1de6-4122-d278-1fef5734dd81"
      },
      "execution_count": null,
      "outputs": [
        {
          "output_type": "execute_result",
          "data": {
            "text/plain": [
              "LSTMModel(\n",
              "  (embedding): Embedding(20000, 100)\n",
              "  (lstm): LSTM(100, 128, batch_first=True)\n",
              "  (fc): Linear(in_features=128, out_features=2, bias=True)\n",
              ")"
            ]
          },
          "metadata": {},
          "execution_count": 112
        }
      ]
    },
    {
      "cell_type": "code",
      "source": [
        "test_loss, correct, total = 0, 0, 0\n",
        "all_preds = []\n",
        "all_labels = []\n",
        "with torch.no_grad():\n",
        "    for batch, labels, lengths in test_loader:\n",
        "        batch, labels, lengths = batch.to(device), labels.to(device), lengths.to(device)\n",
        "        pred = model(batch, lengths)\n",
        "\n",
        "        loss = criterion(pred, labels)\n",
        "        test_loss += loss.item()\n",
        "\n",
        "        preds = pred.argmax(dim=1)\n",
        "        correct += (preds == labels).sum().item()\n",
        "        total += labels.size(0)\n",
        "        all_preds.extend(preds.cpu().numpy())\n",
        "        all_labels.extend(labels.cpu().numpy())\n",
        "\n",
        "avg_test_loss = test_loss / len(test_loader)\n",
        "test_acc = 100 * correct / total\n",
        "print(f\"Validation Loss: {avg_test_loss:.4f} | Validation Accuracy: {test_acc:.2f}%\")"
      ],
      "metadata": {
        "id": "dXyzLEI-jHtI",
        "colab": {
          "base_uri": "https://localhost:8080/"
        },
        "outputId": "f00ab632-277f-42e3-a190-0fdadba048b9"
      },
      "execution_count": null,
      "outputs": [
        {
          "output_type": "stream",
          "name": "stdout",
          "text": [
            "Validation Loss: 0.3313 | Validation Accuracy: 86.87%\n"
          ]
        }
      ]
    },
    {
      "cell_type": "code",
      "source": [
        "print(classification_report(all_labels, all_preds, target_names=[\"Negative\", \"Positive\"]))"
      ],
      "metadata": {
        "id": "gb6_DPsSjn6d",
        "colab": {
          "base_uri": "https://localhost:8080/"
        },
        "outputId": "d54bc532-cca6-4346-d149-32621b8f6e15"
      },
      "execution_count": null,
      "outputs": [
        {
          "output_type": "stream",
          "name": "stdout",
          "text": [
            "              precision    recall  f1-score   support\n",
            "\n",
            "    Negative       0.86      0.88      0.87     12500\n",
            "    Positive       0.87      0.86      0.87     12500\n",
            "\n",
            "    accuracy                           0.87     25000\n",
            "   macro avg       0.87      0.87      0.87     25000\n",
            "weighted avg       0.87      0.87      0.87     25000\n",
            "\n"
          ]
        }
      ]
    },
    {
      "cell_type": "code",
      "source": [
        "cm = confusion_matrix(all_labels, all_preds)\n",
        "\n",
        "plt.figure(figsize=(5,4))\n",
        "sns.heatmap(cm, annot=True, fmt=\"d\", cmap=\"Blues\",\n",
        "            xticklabels=[\"Negative\",\"Positive\"],\n",
        "            yticklabels=[\"Negative\",\"Positive\"])\n",
        "plt.xlabel(\"Predicted\")\n",
        "plt.ylabel(\"True\")\n",
        "plt.title(\"Confusion Matrix - LSTM\")\n",
        "plt.show()"
      ],
      "metadata": {
        "id": "AjctgWxhkQ50",
        "colab": {
          "base_uri": "https://localhost:8080/",
          "height": 410
        },
        "outputId": "b253067e-abf3-4698-db94-0a9c32f67448"
      },
      "execution_count": null,
      "outputs": [
        {
          "output_type": "display_data",
          "data": {
            "text/plain": [
              "<Figure size 500x400 with 2 Axes>"
            ],
            "image/png": "[encoded data removed]"
          },
          "metadata": {}
        }
      ]
    },
    {
      "cell_type": "code",
      "source": [
        "model = GRUModel(vocab_size, embed_size, hidden_size, output_size).to(device)\n",
        "model.load_state_dict(torch.load(f\"best_{model.__class__.__name__}.pth\"))\n",
        "model.eval()"
      ],
      "metadata": {
        "id": "YxI_G5LUoAPn",
        "colab": {
          "base_uri": "https://localhost:8080/"
        },
        "outputId": "eae5b6c4-3bd8-4a5c-b14d-52399a84a03b"
      },
      "execution_count": null,
      "outputs": [
        {
          "output_type": "execute_result",
          "data": {
            "text/plain": [
              "GRUModel(\n",
              "  (embedding): Embedding(20000, 100)\n",
              "  (gru): GRU(100, 128, batch_first=True)\n",
              "  (fc): Linear(in_features=128, out_features=2, bias=True)\n",
              ")"
            ]
          },
          "metadata": {},
          "execution_count": 116
        }
      ]
    },
    {
      "cell_type": "code",
      "source": [
        "test_loss, correct, total = 0, 0, 0\n",
        "all_preds = []\n",
        "all_labels = []\n",
        "with torch.no_grad():\n",
        "    for batch, labels, lengths in test_loader:\n",
        "        batch, labels, lengths = batch.to(device), labels.to(device), lengths.to(device)\n",
        "        pred = model(batch, lengths)\n",
        "\n",
        "        loss = criterion(pred, labels)\n",
        "        test_loss += loss.item()\n",
        "\n",
        "        preds = pred.argmax(dim=1)\n",
        "        correct += (preds == labels).sum().item()\n",
        "        total += labels.size(0)\n",
        "        all_preds.extend(preds.cpu().numpy())\n",
        "        all_labels.extend(labels.cpu().numpy())\n",
        "\n",
        "avg_test_loss = test_loss / len(test_loader)\n",
        "test_acc = 100 * correct / total\n",
        "print(f\"Validation Loss: {avg_test_loss:.4f} | Validation Accuracy: {test_acc:.2f}%\")"
      ],
      "metadata": {
        "id": "g_U6T6TooEoY",
        "colab": {
          "base_uri": "https://localhost:8080/"
        },
        "outputId": "5217e140-e9b6-4e80-c9d1-88719a766d95"
      },
      "execution_count": null,
      "outputs": [
        {
          "output_type": "stream",
          "name": "stdout",
          "text": [
            "Validation Loss: 0.3109 | Validation Accuracy: 87.62%\n"
          ]
        }
      ]
    },
    {
      "cell_type": "code",
      "source": [
        "print(classification_report(all_labels, all_preds, target_names=[\"Negative\", \"Positive\"]))"
      ],
      "metadata": {
        "id": "gIC_Qy1aoGUz",
        "colab": {
          "base_uri": "https://localhost:8080/"
        },
        "outputId": "156b2a6f-b224-477a-8ddb-15e5fd4a9695"
      },
      "execution_count": null,
      "outputs": [
        {
          "output_type": "stream",
          "name": "stdout",
          "text": [
            "              precision    recall  f1-score   support\n",
            "\n",
            "    Negative       0.87      0.88      0.88     12500\n",
            "    Positive       0.88      0.87      0.88     12500\n",
            "\n",
            "    accuracy                           0.88     25000\n",
            "   macro avg       0.88      0.88      0.88     25000\n",
            "weighted avg       0.88      0.88      0.88     25000\n",
            "\n"
          ]
        }
      ]
    },
    {
      "cell_type": "code",
      "source": [
        "cm = confusion_matrix(all_labels, all_preds)\n",
        "\n",
        "plt.figure(figsize=(5,4))\n",
        "sns.heatmap(cm, annot=True, fmt=\"d\", cmap=\"Blues\",\n",
        "            xticklabels=[\"Negative\",\"Positive\"],\n",
        "            yticklabels=[\"Negative\",\"Positive\"])\n",
        "plt.xlabel(\"Predicted\")\n",
        "plt.ylabel(\"True\")\n",
        "plt.title(\"Confusion Matrix - GRU\")\n",
        "plt.show()"
      ],
      "metadata": {
        "id": "c8I7OwJyoMUz",
        "colab": {
          "base_uri": "https://localhost:8080/",
          "height": 410
        },
        "outputId": "bfc5a24c-8ca9-428c-8e41-31ac0b693fb8"
      },
      "execution_count": null,
      "outputs": [
        {
          "output_type": "display_data",
          "data": {
            "text/plain": [
              "<Figure size 500x400 with 2 Axes>"
            ],
            "image/png": "[encoded data removed]"
          },
          "metadata": {}
        }
      ]
    },
    {
      "cell_type": "code",
      "source": [
        "import pickle\n",
        "\n",
        "os.makedirs('saved_models', exist_ok=True)\n",
        "\n",
        "torch.save(lstm_model.state_dict(), \"saved_models/lstm_weights.pth\")\n",
        "torch.save(gru_model.state_dict(), \"saved_models/gru_weights.pth\")\n",
        "torch.save(embedding_matrix, \"saved_models/embedding_matrix.pt\")\n",
        "\n",
        "with open(\"saved_models/vocab.pkl\", \"wb\") as f:\n",
        "    pickle.dump({\"word2idx\": word2idx, \"idx2word\": idx2word}, f)"
      ],
      "metadata": {
        "id": "PjH5GvhClpAG"
      },
      "execution_count": null,
      "outputs": []
    },
    {
      "cell_type": "code",
      "source": [
        "# To download\n",
        "import shutil\n",
        "from google.colab import files\n",
        "shutil.make_archive(\"saved_models\", 'zip', \"saved_models\")\n",
        "# files.download(\"saved_models.zip\")"
      ],
      "metadata": {
        "colab": {
          "base_uri": "https://localhost:8080/",
          "height": 17
        },
        "id": "pu2-1Xf4yma9",
        "outputId": "6644babf-2fe3-41fe-ac0f-784b47c3306f"
      },
      "execution_count": null,
      "outputs": [
        {
          "output_type": "display_data",
          "data": {
            "text/plain": [
              "<IPython.core.display.Javascript object>"
            ],
            "application/javascript": [
              "\n",
              "    async function download(id, filename, size) {\n",
              "      if (!google.colab.kernel.accessAllowed) {\n",
              "        return;\n",
              "      }\n",
              "      const div = document.createElement('div');\n",
              "      const label = document.createElement('label');\n",
              "      label.textContent = `Downloading \"${filename}\": `;\n",
              "      div.appendChild(label);\n",
              "      const progress = document.createElement('progress');\n",
              "      progress.max = size;\n",
              "      div.appendChild(progress);\n",
              "      document.body.appendChild(div);\n",
              "\n",
              "      const buffers = [];\n",
              "      let downloaded = 0;\n",
              "\n",
              "      const channel = await google.colab.kernel.comms.open(id);\n",
              "      // Send a message to notify the kernel that we're ready.\n",
              "      channel.send({})\n",
              "\n",
              "      for await (const message of channel.messages) {\n",
              "        // Send a message to notify the kernel that we're ready.\n",
              "        channel.send({})\n",
              "        if (message.buffers) {\n",
              "          for (const buffer of message.buffers) {\n",
              "            buffers.push(buffer);\n",
              "            downloaded += buffer.byteLength;\n",
              "            progress.value = downloaded;\n",
              "          }\n",
              "        }\n",
              "      }\n",
              "      const blob = new Blob(buffers, {type: 'application/binary'});\n",
              "      const a = document.createElement('a');\n",
              "      a.href = window.URL.createObjectURL(blob);\n",
              "      a.download = filename;\n",
              "      div.appendChild(a);\n",
              "      a.click();\n",
              "      div.remove();\n",
              "    }\n",
              "  "
            ]
          },
          "metadata": {}
        },
        {
          "output_type": "display_data",
          "data": {
            "text/plain": [
              "<IPython.core.display.Javascript object>"
            ],
            "application/javascript": [
              "download(\"download_89fa1a62-8235-4be6-9399-5ead6e6b7e41\", \"saved_models.zip\", 23473000)"
            ]
          },
          "metadata": {}
        }
      ]
    },
    {
      "cell_type": "markdown",
      "source": [
        "# 6. Testing"
      ],
      "metadata": {
        "id": "FZbd13VsqA9M"
      }
    },
    {
      "cell_type": "code",
      "source": [
        "# loading pretrained models, embeddings, vocab\n",
        "\n",
        "import requests, zipfile, io, os\n",
        "\n",
        "url = \"https://github.com/Akage1234/Pytorch-mini-projects/raw/main/NLP/LSTM_GRU/saved_models.zip\"\n",
        "\n",
        "r = requests.get(url)\n",
        "z = zipfile.ZipFile(io.BytesIO(r.content))\n",
        "z.extractall(\"saved_models\")"
      ],
      "metadata": {
        "id": "zyv3MskjyRDc"
      },
      "execution_count": null,
      "outputs": []
    },
    {
      "cell_type": "code",
      "source": [
        "import torch\n",
        "import pickle\n",
        "\n",
        "with open(\"saved_models/vocab.pkl\", \"rb\") as f:\n",
        "    vocab_data = pickle.load(f)\n",
        "word2idx = vocab_data[\"word2idx\"]\n",
        "idx2word = vocab_data[\"idx2word\"]\n",
        "\n",
        "embedding_matrix = torch.load(\"saved_models/embedding_matrix.pt\")\n",
        "\n",
        "lstm_model = LSTMModel(vocab_size=len(word2idx), embed_size=100, hidden_size=128, output_size=2)\n",
        "gru_model  = GRUModel(vocab_size=len(word2idx), embed_size=100, hidden_size=128, output_size=2)\n",
        "\n",
        "lstm_model.load_state_dict(torch.load(\"saved_models/lstm_weights.pth\"))\n",
        "gru_model.load_state_dict(torch.load(\"saved_models/gru_weights.pth\"))\n",
        "\n",
        "device = \"cuda\" if torch.cuda.is_available() else \"cpu\"\n",
        "lstm_model.to(device)\n",
        "gru_model.to(device)"
      ],
      "metadata": {
        "colab": {
          "base_uri": "https://localhost:8080/"
        },
        "id": "vkMtaa0apxXD",
        "outputId": "dc8ff45e-7160-4871-d5b3-1c00e2dbf5ba"
      },
      "execution_count": null,
      "outputs": [
        {
          "output_type": "execute_result",
          "data": {
            "text/plain": [
              "GRUModel(\n",
              "  (embedding): Embedding(20000, 100)\n",
              "  (gru): GRU(100, 128, batch_first=True)\n",
              "  (fc): Linear(in_features=128, out_features=2, bias=True)\n",
              ")"
            ]
          },
          "metadata": {},
          "execution_count": 121
        }
      ]
    },
    {
      "cell_type": "code",
      "source": [
        "import torch\n",
        "import nltk\n",
        "\n",
        "def preprocess_text(text, word2idx):\n",
        "    tokens = nltk.word_tokenize(text.lower())\n",
        "    ids = [word2idx.get(tok, word2idx[\"<unk>\"]) for tok in tokens]\n",
        "    return torch.tensor(ids, dtype=torch.long)\n",
        "\n",
        "def predict_sentiment(model, text, device):\n",
        "    model.eval()\n",
        "    with torch.no_grad():\n",
        "        input_ids = preprocess_text(text, word2idx).unsqueeze(0).to(device)  # Add batch dim\n",
        "        lengths = torch.tensor([input_ids.size(1)]).to(device)\n",
        "        output = model(input_ids, lengths)\n",
        "        pred = torch.argmax(output, dim=1).item()\n",
        "        return \"Positive\" if pred == 1 else \"Negative\"\n",
        "\n",
        "user_input = input(\"Enter your review: \")\n",
        "model_choice = input(\"Choose model (lstm/gru): \").lower()\n",
        "\n",
        "model = lstm_model if model_choice == \"lstm\" else gru_model\n",
        "\n",
        "prediction = predict_sentiment(model, user_input, device)\n",
        "print(f\"Predicted sentiment: {prediction}\")"
      ],
      "metadata": {
        "colab": {
          "base_uri": "https://localhost:8080/"
        },
        "id": "TtBMG5-bqFke",
        "outputId": "a1f7eea6-b1d6-4810-a44f-549446a07575"
      },
      "execution_count": null,
      "outputs": [
        {
          "output_type": "stream",
          "name": "stdout",
          "text": [
            "Enter your review: Amazing movie. Dont miss!\n",
            "Choose model (lstm/gru): lstm\n",
            "Predicted sentiment: Positive\n"
          ]
        }
      ]
    }
  ]
}