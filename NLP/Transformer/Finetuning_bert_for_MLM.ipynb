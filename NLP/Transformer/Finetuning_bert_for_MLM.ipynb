{
  "nbformat": 4,
  "nbformat_minor": 0,
  "metadata": {
    "colab": {
      "provenance": [],
      "gpuType": "T4",
      "authorship_tag": "ABX9TyNzBBUovfnrFozzhgqpicRl",
      "include_colab_link": true
    },
    "kernelspec": {
      "name": "python3",
      "display_name": "Python 3"
    },
    "language_info": {
      "name": "python"
    },
    "accelerator": "GPU",
  },
  "cells": [
    {
      "cell_type": "markdown",
      "metadata": {
        "id": "view-in-github",
        "colab_type": "text"
      },
      "source": [
        "<a href=\"https://colab.research.google.com/github/Akage1234/Pytorch-mini-projects/blob/main/NLP/Transformer/Finetuning_bert_for_MLM.ipynb\" target=\"_parent\"><img src=\"https://colab.research.google.com/assets/colab-badge.svg\" alt=\"Open In Colab\"/></a>"
      ]
    },
    {
      "cell_type": "markdown",
      "source": [
        "# Simple Fine-tuning BERT for Masked Language Modelling task"
      ],
      "metadata": {
        "id": "6EJdiqIun1b3"
      }
    },
    {
      "cell_type": "markdown",
      "source": [
        "## Load Dataset"
      ],
      "metadata": {
        "id": "fz-z8d07n8Tv"
      }
    },
    {
      "cell_type": "code",
      "source": [
        "import torch"
      ],
      "metadata": {
        "id": "f1IhRy-GP3Ji"
      },
      "execution_count": 1,
      "outputs": []
    },
    {
      "cell_type": "code",
      "source": [
        "device = 'cuda' if torch.cuda.is_available() else 'cpu'\n",
        "device"
      ],
      "metadata": {
        "colab": {
          "base_uri": "https://localhost:8080/",
          "height": 35
        },
        "id": "hj8QRoXKPw1X",
        "outputId": "9234e87c-eb83-4736-9bd3-48c10d654612"
      },
      "execution_count": 2,
      "outputs": [
        {
          "output_type": "execute_result",
          "data": {
            "text/plain": [
              "'cuda'"
            ],
            "application/vnd.google.colaboratory.intrinsic+json": {
              "type": "string"
            }
          },
          "metadata": {},
          "execution_count": 2
        }
      ]
    },
    {
      "cell_type": "code",
      "execution_count": 3,
      "metadata": {
        "id": "iOeZT9akEwxX"
      },
      "outputs": [],
      "source": [
        "from datasets import load_dataset\n",
        "from transformers import BertTokenizerFast, BertForMaskedLM, DataCollatorForLanguageModeling, Trainer, TrainingArguments"
      ]
    },
    {
      "cell_type": "code",
      "source": [
        "dataset = load_dataset(\"wikitext\", \"wikitext-2-raw-v1\")\n",
        "dataset"
      ],
      "metadata": {
        "colab": {
          "base_uri": "https://localhost:8080/",
          "height": 608,
          "referenced_widgets": [
            "ae9839678f274b239f34c7bba794c87a",
            "58c15ec997d941a5be7d824b658da235",
            "9cdecca207f644f3b406b6358c379175",
            "29efc5bf252d421d9b0069ef76ddc8ae",
            "3481942998c34829bbf92567935c53b0",
            "4defecd86479413f8a594fdaf24afb23",
            "26f63f705db04f4c968b0288db457cc2",
            "38b50bb7aa6b42d3b99e3dfebba01fab",
            "b364787ec1154bd897a3c51bc9d2bbb7",
            "b8f6993577cf470c90151a91745141cf",
            "7c612e7d975246f2b5d64885a30fd3b9",
            "16f0f064b4c542cbae8b2e5ef02d734a",
            "801931586aeb4f9e8752ab143d181b8c",
            "4d86660e9eac4fcc93c54e0bb3bcf09e",
            "e9886dc5b5984f53ace4313a4ae9f0ee",
            "c287a80fdc5e4e30996307120fd4616f",
            "7c5d54691df845a6aa7f08e4aea938b1",
            "ff74faa4125f40d49a3f8e88de391189",
            "64f53e1a08dc4ea4b15968b2043732c1",
            "f6a6eb9419084608b0f49b98422ef774",
            "29323ae6922e4060aacccc7e0b7a7856",
            "736c4501bb5d42d9aff29fc862e08ec5",
            "55ca4ce5d7eb46cdbd3cf95f05100ab4",
            "7a30560ccb564c6a91c8ed34c65d2ff1",
            "938751b6fbd24f36b6112cdf27621b70",
            "47d261cff0564c669347250a4bb78027",
            "e7702e703d30454fb254e6d75ac0cec0",
            "cceac3edc45e4709ac76da106cb5c82b",
            "2b3447c44bf84316be6fbd1af04a8e61",
            "b9d65875f70f44569c1f12b2b3cc655e",
            "ea62e5c3cb934838bbf0b1c87e9fbb83",
            "04c5032094834c7584004eb66b10ae54",
            "486180ceb15f47348616999892aa29d2",
            "775a7dc9f78e41bfb0378c9fd77dbad9",
            "a1fc6cc46c2a42bcb5d541f469940059",
            "7550114fa97843069cb335fa3534dda6",
            "0b685bd9e82a45e6b11b4404f519059f",
            "e918466a6cd54b278c72b7400fc943fc",
            "ca6377b308ab45bb916b099151dd3f93",
            "56de17a9f0734013a248338eef63f619",
            "80939edee66144e991f2ed9110710d58",
            "6188fa430dd24ffb8a2b9d19589e3ad0",
            "8e4b228fb9a743648d87b2e96aad8863",
            "9c45856397a641559551a378e1138910",
            "0ecb7bee13b146bbb3a27366e49c962e",
            "e561b33dbb50491691d0d610fb70edd5",
            "46a16c5c3d4d473cbf9049b09dd64330",
            "62960fe8805c4606b38ac1776b3065ae",
            "09e4ea22e5dc4e63978b648cdd5f78bb",
            "925889511b5745c7b8b7f684e76d956b",
            "26083d2cc5824d2c8e2448fea8cd151a",
            "501592d45e5a4c4e89c345d2778a0af2",
            "6a165ff03388402d8474ee89ad0a7779",
            "ae3fbbf754ac447297f32faf2cc4ef31",
            "ed8b3d0a9c8a42fb98e80ddae4fd9e9d",
            "28cb2abdd4894e42a98021bdf4f5713e",
            "a28c9daba38f479c99f392312066a3d6",
            "bb6a09a25e984af7b70519301e12d340",
            "e17e68048e7b4a76a8f03b35c51197d9",
            "8953889aba0c46f5a1d7b4c37519cc07",
            "9df82cad27a744609330621e572676ce",
            "09494e1c9e5f46738946a2c007ebc1b3",
            "7da75deb67214ab395fecfc42d7c761b",
            "311fb76eefe34dc5befb3121fd755a89",
            "9b6ae585ebc947a48bf62868c296d12b",
            "c10a47d0c86a42f692361e305e082e0e",
            "e99eebc497244eefbb18c231e7dfc217",
            "42fac66888b04c86b7c9642bed9e8f75",
            "af2360f05c0043089066e9a36b9d7be5",
            "908ba84fa038476692ea505291dee004",
            "acf484af312f4c178d2babbebd97988e",
            "90de86602b37444c9365c88f56e12524",
            "0afebd6a888843b6868507b1dc396797",
            "050a1ec558a94f859779a9cd4ef46d5a",
            "3b6f93cc43c1461697aafd16e6e63344",
            "7b622c62e02d40c28560741f78646dd3",
            "e9d03f63c6464aeb892464afca953654"
          ]
        },
        "id": "deO5UP99NnQr",
        "outputId": "94c9c80f-dcd6-4508-da59-dc18419b344e"
      },
      "execution_count": 4,
      "outputs": [
        {
          "output_type": "stream",
          "name": "stderr",
          "text": [
            "/usr/local/lib/python3.12/dist-packages/huggingface_hub/utils/_auth.py:94: UserWarning: \n",
            "The secret `HF_TOKEN` does not exist in your Colab secrets.\n",
            "To authenticate with the Hugging Face Hub, create a token in your settings tab (https://huggingface.co/settings/tokens), set it as secret in your Google Colab and restart your session.\n",
            "You will be able to reuse this secret in all of your notebooks.\n",
            "Please note that authentication is recommended but still optional to access public models or datasets.\n",
            "  warnings.warn(\n"
          ]
        },
        {
          "output_type": "display_data",
          "data": {
            "text/plain": [
              "README.md: 0.00B [00:00, ?B/s]"
            ],
            "application/vnd.jupyter.widget-view+json": {
              "version_major": 2,
              "version_minor": 0,
              "model_id": "ae9839678f274b239f34c7bba794c87a"
            }
          },
          "metadata": {}
        },
        {
          "output_type": "display_data",
          "data": {
            "text/plain": [
              "wikitext-2-raw-v1/test-00000-of-00001.pa(…):   0%|          | 0.00/733k [00:00<?, ?B/s]"
            ],
            "application/vnd.jupyter.widget-view+json": {
              "version_major": 2,
              "version_minor": 0,
              "model_id": "16f0f064b4c542cbae8b2e5ef02d734a"
            }
          },
          "metadata": {}
        },
        {
          "output_type": "display_data",
          "data": {
            "text/plain": [
              "wikitext-2-raw-v1/train-00000-of-00001.p(…):   0%|          | 0.00/6.36M [00:00<?, ?B/s]"
            ],
            "application/vnd.jupyter.widget-view+json": {
              "version_major": 2,
              "version_minor": 0,
              "model_id": "55ca4ce5d7eb46cdbd3cf95f05100ab4"
            }
          },
          "metadata": {}
        },
        {
          "output_type": "display_data",
          "data": {
            "text/plain": [
              "wikitext-2-raw-v1/validation-00000-of-00(…):   0%|          | 0.00/657k [00:00<?, ?B/s]"
            ],
            "application/vnd.jupyter.widget-view+json": {
              "version_major": 2,
              "version_minor": 0,
              "model_id": "775a7dc9f78e41bfb0378c9fd77dbad9"
            }
          },
          "metadata": {}
        },
        {
          "output_type": "display_data",
          "data": {
            "text/plain": [
              "Generating test split:   0%|          | 0/4358 [00:00<?, ? examples/s]"
            ],
            "application/vnd.jupyter.widget-view+json": {
              "version_major": 2,
              "version_minor": 0,
              "model_id": "0ecb7bee13b146bbb3a27366e49c962e"
            }
          },
          "metadata": {}
        },
        {
          "output_type": "display_data",
          "data": {
            "text/plain": [
              "Generating train split:   0%|          | 0/36718 [00:00<?, ? examples/s]"
            ],
            "application/vnd.jupyter.widget-view+json": {
              "version_major": 2,
              "version_minor": 0,
              "model_id": "28cb2abdd4894e42a98021bdf4f5713e"
            }
          },
          "metadata": {}
        },
        {
          "output_type": "display_data",
          "data": {
            "text/plain": [
              "Generating validation split:   0%|          | 0/3760 [00:00<?, ? examples/s]"
            ],
            "application/vnd.jupyter.widget-view+json": {
              "version_major": 2,
              "version_minor": 0,
              "model_id": "e99eebc497244eefbb18c231e7dfc217"
            }
          },
          "metadata": {}
        },
        {
          "output_type": "execute_result",
          "data": {
            "text/plain": [
              "DatasetDict({\n",
              "    test: Dataset({\n",
              "        features: ['text'],\n",
              "        num_rows: 4358\n",
              "    })\n",
              "    train: Dataset({\n",
              "        features: ['text'],\n",
              "        num_rows: 36718\n",
              "    })\n",
              "    validation: Dataset({\n",
              "        features: ['text'],\n",
              "        num_rows: 3760\n",
              "    })\n",
              "})"
            ]
          },
          "metadata": {},
          "execution_count": 4
        }
      ]
    },
    {
      "cell_type": "markdown",
      "source": [
        "## preprocess"
      ],
      "metadata": {
        "id": "eYpYNGeMoHl6"
      }
    },
    {
      "cell_type": "code",
      "source": [
        "def filter_function(example):\n",
        "    return len(example[\"text\"].strip()) > 10\n",
        "\n",
        "dataset = dataset.filter(filter_function)"
      ],
      "metadata": {
        "colab": {
          "base_uri": "https://localhost:8080/",
          "height": 113,
          "referenced_widgets": [
            "2c92cff9823f49d9b641fce5ca9d3a7c",
            "adcd83bc7cee426aacb9a8210a69ff89",
            "400924302d8d41ba8f913ba32e5d51ef",
            "a1efbd49a02e4bcb97cd1c6f37350437",
            "7bcecc8213154122b4320e111bf0791d",
            "feb14be197e246729604f48bebf843dc",
            "6c52a13c1de4426297da6addec332506",
            "d7662743be32472b989cfcecb249782b",
            "38fbe36de190457fb6b84d104df30cdf",
            "d8bd237460164625933e8e963cdae29d",
            "bb6415b954564b1982be33108a2f77d7",
            "122496895c704430b1a2c64e96067168",
            "fe8fbe5d732f48b3a9d854548b291d39",
            "b481684091a64553ba8bd132105aa094",
            "178e8bad94da487a8a45ab21361ca0cb",
            "ad0b663941a4418aa6c6a60c57f36914",
            "56c650e1d36141d6899e0b971511c478",
            "cb0a39c589b04757ba96f795de8d5cb1",
            "ba95d29a8bc04e2f9aaad632eec6f97f",
            "5da2af351dc741829c09a328d99353fa",
            "074a503fbab1477e981fbee0a7587bc4",
            "dcd15240d20c4eb9a0f930ecf6ecc3bd",
            "fc2579d4f58e451d83e563262940ae3f",
            "6ab5e04284c547288a525efa6a026022",
            "d7c57a4d673d44dea6d2ab236a8edeb0",
            "439a377a329b4089ac7fe901d98c2b2b",
            "bf3bc8cf7b384a5d83b72eb8907eb319",
            "9bacff32b3284f4f8f9019b536fb6cc2",
            "386647ab0290473aafc1e3cdad312515",
            "e433acd590de4c899b9b39c0739f8196",
            "778b565218674a83af8fd0a42c10572a",
            "bb6f8f2442d14ac4bb6c0a288f82978d",
            "3ead2f25df174e23b54ebfaf05491353"
          ]
        },
        "id": "WrrEvAXB4EjR",
        "outputId": "b650ea53-dd5e-4f34-f849-289133ad2f5c"
      },
      "execution_count": 5,
      "outputs": [
        {
          "output_type": "display_data",
          "data": {
            "text/plain": [
              "Filter:   0%|          | 0/4358 [00:00<?, ? examples/s]"
            ],
            "application/vnd.jupyter.widget-view+json": {
              "version_major": 2,
              "version_minor": 0,
              "model_id": "2c92cff9823f49d9b641fce5ca9d3a7c"
            }
          },
          "metadata": {}
        },
        {
          "output_type": "display_data",
          "data": {
            "text/plain": [
              "Filter:   0%|          | 0/36718 [00:00<?, ? examples/s]"
            ],
            "application/vnd.jupyter.widget-view+json": {
              "version_major": 2,
              "version_minor": 0,
              "model_id": "122496895c704430b1a2c64e96067168"
            }
          },
          "metadata": {}
        },
        {
          "output_type": "display_data",
          "data": {
            "text/plain": [
              "Filter:   0%|          | 0/3760 [00:00<?, ? examples/s]"
            ],
            "application/vnd.jupyter.widget-view+json": {
              "version_major": 2,
              "version_minor": 0,
              "model_id": "fc2579d4f58e451d83e563262940ae3f"
            }
          },
          "metadata": {}
        }
      ]
    },
    {
      "cell_type": "code",
      "source": [
        "tokenizer = BertTokenizerFast.from_pretrained('bert-base-uncased')"
      ],
      "metadata": {
        "colab": {
          "base_uri": "https://localhost:8080/",
          "height": 145,
          "referenced_widgets": [
            "756831a7f4e74a76a5fdfaf01e5eeed1",
            "96f707fb84564a91bfbc185c976e9573",
            "3e95f31fdcab4279a1af4b5eb151ce57",
            "b4b21f6884d34b4797f0feecf01194fc",
            "6130ee08d3fe444a907e4464fd9cb94a",
            "748444d327a940b4bce6ec82bd878ae9",
            "4924895edd7c41869fa27bf856e291b7",
            "81ef2c232cb643d6a16a8d0f8dc1e582",
            "fa65dfc6531446da8f812c4f634eb21e",
            "fa9d85f2163448fab88bcf975893d48d",
            "531a5d94c81f4970b7b4c33cb27587dc",
            "e83966d03aa54e2399216041d10bcb4f",
            "fd121d05c0cd445891987e73eba71a04",
            "af2d69afa1854c0aa0b57c2dd3034d7f",
            "5e8bcfadca0644a88588b03dc77cfd3a",
            "9efbc000c03046a0bc9ee93b70f20ccd",
            "6d7b0dcec7614e2a97e6d65b223ac9aa",
            "13a1a5b27b8e489c9d0db8646729aad3",
            "a65ecc8d01e84999b77f563378d90a15",
            "db6116ca747243569b3a5eab5b8e5e03",
            "5387c40234654b0da2b34afbe714026d",
            "f9271363e9b243dba1ba09a9711d94bf",
            "d51eba8664b44863b047c58d5138fcce",
            "de3eff471fd247559693c69f6a33ee84",
            "81ae2772f9884471947582818e092ba8",
            "7c90d3f236334962b024e427f3b3867b",
            "f6c255717a8f4e09ac13d2be1fb630a8",
            "05dbac6b42a9430aab5f8efe43d01d2a",
            "42aa37af45a94bff84dc79cced195ecc",
            "bd3eb04ee41d4154b8f868aed70cb1c4",
            "d5de52d2808a4961bda681014c9a6363",
            "384bff6a08f74efe9a852bcd4e5ca93a",
            "c79d4a820b2e4ac3bdaac5230523e5d0",
            "4927d3c9b2b244fa84e51c1867683938",
            "0ed96b578cc4418caabdb4b8bdcd019a",
            "bee40f58dd464979a4267eef8a830e9f",
            "db90c9fa26994836a7b98936c9fb08ec",
            "12c69fd2c13149ef9345d70cc4c4d60a",
            "73c3d3e0d2a9408596f5b307d6cccfca",
            "16c9cc5467e84a7cbc74ec0ca1b41d23",
            "645ea5c1bf554e7c9b840b9ff36cf4a4",
            "1e0f70ea1f2b4c7b91954c357ec78482",
            "9f29ffe40ab7487a904443d8ddbc2e60",
            "1b277dd44d1c4c26b7253ac564774bf7"
          ]
        },
        "id": "agARna-fNw25",
        "outputId": "2c093acc-7141-4f03-d8d2-8e04a3b0d100"
      },
      "execution_count": 6,
      "outputs": [
        {
          "output_type": "display_data",
          "data": {
            "text/plain": [
              "tokenizer_config.json:   0%|          | 0.00/48.0 [00:00<?, ?B/s]"
            ],
            "application/vnd.jupyter.widget-view+json": {
              "version_major": 2,
              "version_minor": 0,
              "model_id": "756831a7f4e74a76a5fdfaf01e5eeed1"
            }
          },
          "metadata": {}
        },
        {
          "output_type": "display_data",
          "data": {
            "text/plain": [
              "vocab.txt:   0%|          | 0.00/232k [00:00<?, ?B/s]"
            ],
            "application/vnd.jupyter.widget-view+json": {
              "version_major": 2,
              "version_minor": 0,
              "model_id": "e83966d03aa54e2399216041d10bcb4f"
            }
          },
          "metadata": {}
        },
        {
          "output_type": "display_data",
          "data": {
            "text/plain": [
              "tokenizer.json:   0%|          | 0.00/466k [00:00<?, ?B/s]"
            ],
            "application/vnd.jupyter.widget-view+json": {
              "version_major": 2,
              "version_minor": 0,
              "model_id": "d51eba8664b44863b047c58d5138fcce"
            }
          },
          "metadata": {}
        },
        {
          "output_type": "display_data",
          "data": {
            "text/plain": [
              "config.json:   0%|          | 0.00/570 [00:00<?, ?B/s]"
            ],
            "application/vnd.jupyter.widget-view+json": {
              "version_major": 2,
              "version_minor": 0,
              "model_id": "4927d3c9b2b244fa84e51c1867683938"
            }
          },
          "metadata": {}
        }
      ]
    },
    {
      "cell_type": "code",
      "source": [
        "def tokenize_function(examples):\n",
        "    texts = [text for text in examples[\"text\"] if text.strip()]\n",
        "    return tokenizer(examples[\"text\"], truncation=True, padding='max_length', max_length=128)\n",
        "\n",
        "tokenized_datasets = dataset.map(tokenize_function,batched=True, remove_columns=['text'])"
      ],
      "metadata": {
        "colab": {
          "base_uri": "https://localhost:8080/",
          "height": 113,
          "referenced_widgets": [
            "5b54eab4a95f49c595b1aa4e710b3be8",
            "b286d0e51e6e4093a3686936fcdcba5f",
            "74093c7c7726490b9c4635873395c452",
            "ddb3a12267b0440b89e85923eb582417",
            "27c16853cfb44bc98739e62006a8760b",
            "bb8ee6b59d564dd3921ebe6497e3eed0",
            "0eacb45503ff4760a120242bb7120272",
            "0f26f9ed8334415481ea6caabb4db15d",
            "2b802fd32cfe433684b6680378a8c16c",
            "a4ea5334919047aa913f692a09e9cb60",
            "fd75971e4f1f43dc8448688b3e86744e",
            "819ac395aadc4840b796e4c1c11b09e4",
            "cc024c6ecedd453d83cb5b63c8803740",
            "3169576eccd84b4a92d5b641c4377ee8",
            "ec5c18f401054755a5c87f8026c6a1d9",
            "96e3cc2384cd4e37a913210b1d0764a7",
            "72af8b2d015e4d4aaa09c979f8a43291",
            "cc6b1f6a77274e89a875ef8821bda4ec",
            "01562c457a514f1f99edd635f2c59a0c",
            "d935ef129add41c28efa0f9f2307f485",
            "1cfe73d9fe2847db99c81b4c3b8bf3ae",
            "6c3cd3b5845449f99e424fcde721ff0a",
            "c4e32fb224e24c2eb353fb36fc10263c",
            "80808ad91dbe4997bcdd2e068182b369",
            "a9ca6e8083134302bb0645ec9774c3ca",
            "939c3e0d22384ae2b9ea5eae63a68a46",
            "576ceaf7a4494192a6a31c9c944ccff0",
            "e739feaf84d54d4c9d0be77b6253a8b5",
            "6484a606d19d41ea9938261422661aed",
            "46ad4c4ccb724588aabe8cde018c4ad3",
            "fe9635aca62f42199b239b639d024df2",
            "709c711078624f21a9b4be5c1266b23a",
            "ab139a427ee7431f84238bec60ae16ed"
          ]
        },
        "id": "BvVDruqyOKJ6",
        "outputId": "9eadcb2e-0551-47ce-c48b-9423a8717856"
      },
      "execution_count": 7,
      "outputs": [
        {
          "output_type": "display_data",
          "data": {
            "text/plain": [
              "Map:   0%|          | 0/2850 [00:00<?, ? examples/s]"
            ],
            "application/vnd.jupyter.widget-view+json": {
              "version_major": 2,
              "version_minor": 0,
              "model_id": "5b54eab4a95f49c595b1aa4e710b3be8"
            }
          },
          "metadata": {}
        },
        {
          "output_type": "display_data",
          "data": {
            "text/plain": [
              "Map:   0%|          | 0/23547 [00:00<?, ? examples/s]"
            ],
            "application/vnd.jupyter.widget-view+json": {
              "version_major": 2,
              "version_minor": 0,
              "model_id": "819ac395aadc4840b796e4c1c11b09e4"
            }
          },
          "metadata": {}
        },
        {
          "output_type": "display_data",
          "data": {
            "text/plain": [
              "Map:   0%|          | 0/2454 [00:00<?, ? examples/s]"
            ],
            "application/vnd.jupyter.widget-view+json": {
              "version_major": 2,
              "version_minor": 0,
              "model_id": "c4e32fb224e24c2eb353fb36fc10263c"
            }
          },
          "metadata": {}
        }
      ]
    },
    {
      "cell_type": "code",
      "source": [
        "data_collator = DataCollatorForLanguageModeling(tokenizer, mlm=True, mlm_probability=0.15)"
      ],
      "metadata": {
        "id": "dH_JtHq5OnDY"
      },
      "execution_count": 8,
      "outputs": []
    },
    {
      "cell_type": "code",
      "source": [
        "model = BertForMaskedLM.from_pretrained('bert-base-uncased').to(device)"
      ],
      "metadata": {
        "colab": {
          "base_uri": "https://localhost:8080/",
          "height": 121,
          "referenced_widgets": [
            "e31d7a9532cd4198a4a0f88ece21a88c",
            "a3d217a055d74a50b555745d40636297",
            "b6bdc8c88dca4a988018d13cc00bed8b",
            "5eb4d4694ee348118f9cd2fb67559655",
            "463e1d5892ec4d91ad5c37162522cd0e",
            "fa1e0fc8a6094ea9bdb9edea9413fcad",
            "41c0c979e859484a81bb91152d25a591",
            "7d58747a684242c88b3d9c3c3a93a94b",
            "c9ced57ed13f4311bc4b9867421a68d1",
            "010cd9ed8bbf4efdbef69355217e3a1b",
            "dd972958212947d684ab33d58842873c"
          ]
        },
        "id": "d7SmKMSlPH5R",
        "outputId": "8f783d7a-b537-4caf-e719-80ad9d2826f9"
      },
      "execution_count": 9,
      "outputs": [
        {
          "output_type": "display_data",
          "data": {
            "text/plain": [
              "model.safetensors:   0%|          | 0.00/440M [00:00<?, ?B/s]"
            ],
            "application/vnd.jupyter.widget-view+json": {
              "version_major": 2,
              "version_minor": 0,
              "model_id": "e31d7a9532cd4198a4a0f88ece21a88c"
            }
          },
          "metadata": {}
        },
        {
          "output_type": "stream",
          "name": "stderr",
          "text": [
            "Some weights of the model checkpoint at bert-base-uncased were not used when initializing BertForMaskedLM: ['bert.pooler.dense.bias', 'bert.pooler.dense.weight', 'cls.seq_relationship.bias', 'cls.seq_relationship.weight']\n",
            "- This IS expected if you are initializing BertForMaskedLM from the checkpoint of a model trained on another task or with another architecture (e.g. initializing a BertForSequenceClassification model from a BertForPreTraining model).\n",
            "- This IS NOT expected if you are initializing BertForMaskedLM from the checkpoint of a model that you expect to be exactly identical (initializing a BertForSequenceClassification model from a BertForSequenceClassification model).\n"
          ]
        }
      ]
    },
    {
      "cell_type": "code",
      "source": [
        "training_args = TrainingArguments(\n",
        "    output_dir = './bert-mlm-finetuned',\n",
        "    eval_strategy=\"epoch\",\n",
        "    save_strategy=\"epoch\",\n",
        "    learning_rate=5e-5,\n",
        "    per_device_train_batch_size=32,\n",
        "    per_device_eval_batch_size=32,\n",
        "    num_train_epochs=3,\n",
        "    weight_decay=0.01,\n",
        "    save_total_limit=5,\n",
        "    logging_steps=100,\n",
        "    push_to_hub=False,\n",
        "    fp16=True,\n",
        "    report_to=\"none\",\n",
        "    load_best_model_at_end=True,\n",
        "    metric_for_best_model=\"eval_loss\",\n",
        "    warmup_steps=500,\n",
        "    gradient_accumulation_steps=2\n",
        ")"
      ],
      "metadata": {
        "id": "65giY2grPPlE"
      },
      "execution_count": 10,
      "outputs": []
    },
    {
      "cell_type": "markdown",
      "source": [
        "## Train/FineTune"
      ],
      "metadata": {
        "id": "NVagnkkioNPX"
      }
    },
    {
      "cell_type": "code",
      "source": [
        "from transformers import EarlyStoppingCallback\n",
        "trainer = Trainer(\n",
        "    model = model,\n",
        "    args=training_args,\n",
        "    train_dataset=tokenized_datasets['train'],\n",
        "    eval_dataset = tokenized_datasets['validation'],\n",
        "    data_collator=data_collator,\n",
        "    callbacks=[EarlyStoppingCallback(early_stopping_patience=2)]\n",
        ")"
      ],
      "metadata": {
        "id": "KbSGwVwWRUg_"
      },
      "execution_count": 11,
      "outputs": []
    },
    {
      "cell_type": "code",
      "source": [
        "import os\n",
        "os.environ[\"WANDB_DISABLED\"] = \"true\"\n",
        "\n",
        "trainer.train()"
      ],
      "metadata": {
        "colab": {
          "base_uri": "https://localhost:8080/",
          "height": 221
        },
        "id": "3RmaohmwRQGK",
        "outputId": "83a67042-97de-4003-cfd5-9ca147c4fb79"
      },
      "execution_count": 12,
      "outputs": [
        {
          "output_type": "display_data",
          "data": {
            "text/plain": [
              "<IPython.core.display.HTML object>"
            ],
            "text/html": [
              "\n",
              "    <div>\n",
              "      \n",
              "      <progress value='1104' max='1104' style='width:300px; height:20px; vertical-align: middle;'></progress>\n",
              "      [1104/1104 10:18, Epoch 3/3]\n",
              "    </div>\n",
              "    <table border=\"1\" class=\"dataframe\">\n",
              "  <thead>\n",
              " <tr style=\"text-align: left;\">\n",
              "      <th>Epoch</th>\n",
              "      <th>Training Loss</th>\n",
              "      <th>Validation Loss</th>\n",
              "    </tr>\n",
              "  </thead>\n",
              "  <tbody>\n",
              "    <tr>\n",
              "      <td>1</td>\n",
              "      <td>1.889400</td>\n",
              "      <td>1.733477</td>\n",
              "    </tr>\n",
              "    <tr>\n",
              "      <td>2</td>\n",
              "      <td>1.760300</td>\n",
              "      <td>1.721453</td>\n",
              "    </tr>\n",
              "    <tr>\n",
              "      <td>3</td>\n",
              "      <td>1.660300</td>\n",
              "      <td>1.648924</td>\n",
              "    </tr>\n",
              "  </tbody>\n",
              "</table><p>"
            ]
          },
          "metadata": {}
        },
        {
          "output_type": "stream",
          "name": "stderr",
          "text": [
            "There were missing keys in the checkpoint model loaded: ['cls.predictions.decoder.weight', 'cls.predictions.decoder.bias'].\n"
          ]
        },
        {
          "output_type": "execute_result",
          "data": {
            "text/plain": [
              "TrainOutput(global_step=1104, training_loss=1.8179251638011655, metrics={'train_runtime': 620.1505, 'train_samples_per_second': 113.909, 'train_steps_per_second': 1.78, 'total_flos': 4648262795251200.0, 'train_loss': 1.8179251638011655, 'epoch': 3.0})"
            ]
          },
          "metadata": {},
          "execution_count": 12
        }
      ]
    },
    {
      "cell_type": "code",
      "source": [
        "from transformers import pipeline\n",
        "fill_mask = pipeline('fill-mask', model=model, tokenizer=tokenizer)\n",
        "fill_mask(\"The Eiffel Tower is located in [MASK].\")"
      ],
      "metadata": {
        "id": "9HoViNZ0RQ9A",
        "colab": {
          "base_uri": "https://localhost:8080/"
        },
        "outputId": "5b31f2ee-f4c7-4edc-e51a-2222c31361f9"
      },
      "execution_count": 13,
      "outputs": [
        {
          "output_type": "stream",
          "name": "stderr",
          "text": [
            "Device set to use cuda:0\n"
          ]
        },
        {
          "output_type": "execute_result",
          "data": {
            "text/plain": [
              "[{'score': 0.5361719727516174,\n",
              "  'token': 3000,\n",
              "  'token_str': 'paris',\n",
              "  'sequence': 'the eiffel tower is located in paris.'},\n",
              " {'score': 0.06710978597402573,\n",
              "  'token': 9371,\n",
              "  'token_str': 'brussels',\n",
              "  'sequence': 'the eiffel tower is located in brussels.'},\n",
              " {'score': 0.030966080725193024,\n",
              "  'token': 9780,\n",
              "  'token_str': 'frankfurt',\n",
              "  'sequence': 'the eiffel tower is located in frankfurt.'},\n",
              " {'score': 0.017921794205904007,\n",
              "  'token': 2605,\n",
              "  'token_str': 'france',\n",
              "  'sequence': 'the eiffel tower is located in france.'},\n",
              " {'score': 0.015329321846365929,\n",
              "  'token': 14497,\n",
              "  'token_str': 'monaco',\n",
              "  'sequence': 'the eiffel tower is located in monaco.'}]"
            ]
          },
          "metadata": {},
          "execution_count": 13
        }
      ]
    },
    {
      "cell_type": "code",
      "source": [
        "trainer.save_model('./bert-mlm-finetuned')\n",
        "tokenizer.save_pretrained('./bert-mlm-finetuned')"
      ],
      "metadata": {
        "id": "NQhkhp7OTrlc",
        "colab": {
          "base_uri": "https://localhost:8080/"
        },
        "outputId": "af00026a-28c2-402e-9dcc-95e19072ec9c"
      },
      "execution_count": 14,
      "outputs": [
        {
          "output_type": "execute_result",
          "data": {
            "text/plain": [
              "('./bert-mlm-finetuned/tokenizer_config.json',\n",
              " './bert-mlm-finetuned/special_tokens_map.json',\n",
              " './bert-mlm-finetuned/vocab.txt',\n",
              " './bert-mlm-finetuned/added_tokens.json',\n",
              " './bert-mlm-finetuned/tokenizer.json')"
            ]
          },
          "metadata": {},
          "execution_count": 14
        }
      ]
    },
    {
      "cell_type": "markdown",
      "source": [
        "## Testing"
      ],
      "metadata": {
        "id": "-NkWbrDDVJw1"
      }
    },
    {
      "cell_type": "code",
      "source": [
        "from transformers import BertForMaskedLM, BertTokenizerFast, pipeline\n",
        "\n",
        "model_path = \"./bert-mlm-finetuned\"\n",
        "\n",
        "tokenizer = BertTokenizerFast.from_pretrained(model_path)\n",
        "model = BertForMaskedLM.from_pretrained(model_path)"
      ],
      "metadata": {
        "id": "m1eKWNxaTo-h"
      },
      "execution_count": 15,
      "outputs": []
    },
    {
      "cell_type": "code",
      "source": [
        "fill_mask = pipeline(\n",
        "    \"fill-mask\",\n",
        "    model=model,\n",
        "    tokenizer=tokenizer,\n",
        "    device=0 if torch.cuda.is_available() else -1\n",
        ")"
      ],
      "metadata": {
        "id": "1EDJyFxsVM7j",
        "colab": {
          "base_uri": "https://localhost:8080/"
        },
        "outputId": "7b8355c7-ba96-4cfa-fd11-08271fe8a20e"
      },
      "execution_count": 16,
      "outputs": [
        {
          "output_type": "stream",
          "name": "stderr",
          "text": [
            "Device set to use cuda:0\n"
          ]
        }
      ]
    },
    {
      "cell_type": "code",
      "source": [
        "print(\"Type a sentence with [MASK] for BERT to predict (type 'quit' to exit)\")\n",
        "sentence = \"The Eiffel Tower is located in [MASK]\"\n",
        "\n",
        "while True:\n",
        "    sentence = input(\"Your sentence: \")\n",
        "    if sentence.lower() == \"quit\":\n",
        "        break\n",
        "    if \"[MASK]\" not in sentence:\n",
        "        print(\"Please include [MASK] in your sentence.\\n\")\n",
        "        continue\n",
        "    predictions = fill_mask(sentence)\n",
        "    for i, pred in enumerate(predictions):\n",
        "        print(f\"{i+1}. {pred['sequence']} (score: {pred['score']:.4f})\")\n",
        "    print(\"-\"*40)"
      ],
      "metadata": {
        "id": "5NZRz2O3VR-z",
        "colab": {
          "base_uri": "https://localhost:8080/"
        },
        "outputId": "6d1e6c72-06ed-4848-e904-f21a1168e38d"
      },
      "execution_count": 22,
      "outputs": [
        {
          "name": "stdout",
          "output_type": "stream",
          "text": [
            "Type a sentence with [MASK] for BERT to predict (type 'quit' to exit)\n",
            "Your sentence: Capital of France is [MASK]\n",
            "1. capital of france is paris (score: 0.2366)\n",
            "2. capital of france is lyon (score: 0.1063)\n",
            "3. capital of france is : (score: 0.0484)\n",
            "4. capital of france is marseille (score: 0.0456)\n",
            "5. capital of france is toulon (score: 0.0405)\n",
            "----------------------------------------\n",
            "Your sentence: I want to eat [MASK].\n",
            "1. i want to eat it. (score: 0.1990)\n",
            "2. i want to eat now. (score: 0.0813)\n",
            "3. i want to eat something. (score: 0.0553)\n",
            "4. i want to eat this. (score: 0.0533)\n",
            "5. i want to eat again. (score: 0.0479)\n",
            "----------------------------------------\n",
            "Your sentence: quit\n"
          ]
        }
      ]
    },
    {
      "cell_type": "code",
      "source": [
        "import matplotlib.pyplot as plt\n",
        "\n",
        "sentence = \"The Eiffel Tower is located in [MASK].\"\n",
        "\n",
        "preds = fill_mask(sentence)\n",
        "\n",
        "tokens = [p['token_str'] for p in preds]\n",
        "scores = [p['score'] for p in preds]\n",
        "\n",
        "plt.bar(tokens, scores)\n",
        "plt.ylabel(\"Probability\")\n",
        "plt.title(\"Top predictions for [MASK]\")\n",
        "plt.show()"
      ],
      "metadata": {
        "id": "DNVsuSf0VW-3",
        "colab": {
          "base_uri": "https://localhost:8080/",
          "height": 452
        },
        "outputId": "0c6e3732-ecb8-410d-ee4f-bab259334b92"
      },
      "execution_count": 20,
      "outputs": [
        {
          "output_type": "display_data",
          "data": {
            "text/plain": [
              "<Figure size 640x480 with 1 Axes>"
            ],
            "image/png": "iVBORw0KGgoAAAANSUhEUgAAAjcAAAGzCAYAAADT4Tb9AAAAOnRFWHRTb2Z0d2FyZQBNYXRwbG90bGliIHZlcnNpb24zLjEwLjAsIGh0dHBzOi8vbWF0cGxvdGxpYi5vcmcvlHJYcgAAAAlwSFlzAAAPYQAAD2EBqD+naQAAO+RJREFUeJzt3XlYFfX////HAQUU2RTFJZIU11RQUEMzLHlHaqYtrqVEpt/KpcIyyRTNCk0zWkw/WS65a+/KNjVFzUrKkjQzLSkXKgG1BFdQmN8f/TzvjoAe8MCB8X67rnNdntd5zWueM3PSRzOvmWMxDMMQAACASbg4uwAAAABHItwAAABTIdwAAABTIdwAAABTIdwAAABTIdwAAABTIdwAAABTIdwAAABTIdwAAABTIdwAsJvFYtGkSZOs7xcsWCCLxaIDBw44ZPwDBw7IYrFowYIFDhnP0c6fP6+xY8cqMDBQLi4u6tOnT5muz2KxWF8zZswo03WVlx07dths17vvvuvskmBChBvgEv79l/ClXps3b3Z2qZXK0qVLlZSU5OwySmzevHmaPn267rnnHi1cuFCPP/54ma/zzjvv1KJFi9SzZ09r2+bNm63fvcWLFxe5XOfOnWWxWNSqVasiP8/Pz1f9+vVlsVi0Zs2aYtf/5Zdfqnv37mrQoIE8PDx07bXXqlevXlq6dKlNP4vFopEjRxZa/oUXXpDFYtEDDzyggoICNWzYUIsWLdLTTz9tz+YDpVLF2QUAFdmiRYts3r/zzjtav359ofYWLVqUZ1kVxuDBgzVgwAC5u7uXaLmlS5fqxx9/1GOPPWbT3rBhQ505c0ZVq1Z1YJWOs3HjRjVo0EAvv/xyua2zTZs2uu+++4r8zMPDQ0uXLi30+YEDB7R161Z5eHgUO+7GjRt1+PBhBQUFacmSJerevXuhPqtWrVL//v0VGhqqRx99VH5+ftq/f7+2bNmiuXPnatCgQZesferUqRo/frxiYmL01ltvycXFRX5+frrvvvu0efNmvfDCC3bsAaDkCDfAJVz8j8bXX3+t9evXF/uPTUV1+vRpVa9e3eHjurq6ytXV1WHjWSyWS/6D7GxZWVny9fV12HgFBQXKy8sr9Tb36NFDH374oY4ePSp/f39r+9KlSxUQEKAmTZro77//LnLZxYsXq127doqJidHTTz+tU6dOydPT06bPpEmT1LJlS3399ddyc3Oz+SwrK+uStU2fPl3x8fEaMmSI5s2bJxcXLhSg/PBtA67QqVOnNGbMGAUGBsrd3V3NmjXTjBkzZBiGTb8Lp+2XLFmiZs2aycPDQ2FhYdqyZctl13HhMsSKFSv09NNPq27duvL09NQdd9yh9PR0m75du3ZVq1attH37dt10002qXr269RJAbm6uEhISFBwcLHd3dwUGBmrs2LHKzc21GSM3N1ePP/64ateuLS8vL91xxx36/fffC9VV3JybNWvWKDIyUl5eXvL29lb79u2tlzG6du2qTz75RAcPHrReWgkKCpJU/JybjRs3qkuXLvL09JSvr6969+6tPXv22PSZNGmSLBaL0tLSdP/998vX11c+Pj6KjY3V6dOnbfquX79eN954o3x9fVWjRg01a9bskpdJLtS1adMm7d69u9DlyNJ8B66//nq5u7tr7dq1xa73cnr37i13d3etWrXKpn3p0qXq169fscHzzJkzev/99zVgwAD169dPZ86c0erVqwv1+/XXX9W+fftCwUaS6tSpU2xdM2fO1NixY3Xfffdp/vz5BBuUO87cAFfAMAzdcccd2rRpk4YOHarQ0FCtW7dOTz75pP74449Cly8+//xzrVixQqNHj5a7u7veeOMN3Xbbbdq2bVuxcyP+7fnnn5fFYtFTTz2lrKwsJSUlKSoqSjt27FC1atWs/Y4dO6bu3btrwIABuu+++xQQEKCCggLdcccd+vLLLzV8+HC1aNFCu3bt0ssvv6xffvlFH3zwgXX5Bx98UIsXL9agQYPUqVMnbdy40WbOx6UsWLBADzzwgK6//nrFx8fL19dX33//vdauXatBgwZp/Pjxys7O1u+//27dPzVq1Ch2vA0bNqh79+5q1KiRJk2apDNnzui1115T586dlZqaag1GF/Tr10/XXXedEhMTlZqaqrfeekt16tTRtGnTJEm7d+/W7bffrjZt2ujZZ5+Vu7u70tLS9NVXXxVbQ+3atbVo0SI9//zzOnnypBITEyX9czmypN+BjRs3auXKlRo5cqT8/f0L1V8S1atXV+/evbVs2TI9/PDDkqSdO3dq9+7deuutt/TDDz8UudyHH36okydPasCAAapbt666du2qJUuWFLrM1LBhQyUnJ+v333/XNddcY1dNr7zyisaMGaNBgwZpwYIFBBs4hwHAbiNGjDD+/Z/NBx98YEgynnvuOZt+99xzj2GxWIy0tDRrmyRDkvHdd99Z2w4ePGh4eHgYd9555yXXu2nTJkOS0aBBAyMnJ8favnLlSkOS8corr1jbIiMjDUnGnDlzbMZYtGiR4eLiYnzxxRc27XPmzDEkGV999ZVhGIaxY8cOQ5LxyCOP2PQbNGiQIclISEiwts2fP9+QZOzfv98wDMM4fvy44eXlZXTs2NE4c+aMzfIFBQXWP/fs2dNo2LBhoe3cv3+/IcmYP3++tS00NNSoU6eOcezYMWvbzp07DRcXF2PIkCHWtoSEBEOS8cADD9iMeeeddxq1atWyvn/55ZcNScaRI0cKrf9yIiMjjeuvv96mraTfARcXF2P37t12re/i/X3Bhe/DqlWrjI8//tiwWCzGoUOHDMMwjCeffNJo1KhRsfUahmHcfvvtRufOna3v33zzTaNKlSpGVlaWTb+3337bkGS4ubkZN998szFhwgTjiy++MPLz84ustWHDhoYkY+DAgcb58+cvuW3/3gbA0YjUwBX49NNP5erqqtGjR9u0jxkzRoZhFLoLJSIiQmFhYdb31157rXr37q1169YpPz//susbMmSIvLy8rO/vuece1atXT59++qlNP3d3d8XGxtq0rVq1Si1atFDz5s119OhR6+uWW26RJG3atMm6TZIKbdPFk3+Lsn79ep04cULjxo0rNI/EYrFcdvmLHT58WDt27ND999+vmjVrWtvbtGmj//znP4W2W5Ieeughm/ddunTRsWPHlJOTI0nWOTOrV69WQUFBiWu6WEm/A5GRkWrZsuUVr/eCW2+9VTVr1tTy5ctlGIaWL1+ugQMHFtv/2LFjWrdunU2fu+++WxaLRStXrrTp+8ADD2jt2rXq2rWrvvzyS02ZMkVdunRRkyZNtHXr1kJjZ2ZmSpKuu+46h87FAkqKcANcgYMHD6p+/fo2gUP6391TBw8etGlv0qRJoTGaNm2q06dP68iRI5dd38XLWywWBQcHF5rz0qBBg0LzJPbt26fdu3erdu3aNq+mTZtK+t8E0YMHD8rFxUWNGze2Wb5Zs2aXre/XX3+VJLsusdnjwv4rat0tWrTQ0aNHderUKZv2a6+91ua9n5+fJFkn1vbv31+dO3fWgw8+qICAAA0YMEArV64sddAp6XfguuuuK9V6ilO1alX17dtXS5cu1ZYtW5Senn7Ju5hWrFihc+fOqW3btkpLS1NaWpr++usvdezYUUuWLCnUPzo6WuvWrdPx48e1ZcsWjRgxQgcPHtTtt99eaFJxTEyMevXqpRdeeKFc7ygDLsacG8CE/j3/5oKCggK1bt1aM2fOLHKZwMDAsi6rXBR3xsD4/yf3VqtWTVu2bNGmTZv0ySefaO3atVqxYoVuueUWffbZZ2V+xqGoY3OlBg0apDlz5mjSpEkKCQm55JmhCwGmc+fORX7+22+/qVGjRoXaq1evri5duqhLly7y9/fX5MmTtWbNGsXExFj7VKlSRStXrtRtt92mMWPGyNfXt9AZRKA8EG6AK9CwYUNt2LBBJ06csPk/971791o//7d9+/YVGuOXX35R9erVVbt27cuu7+LlDcNQWlqa2rRpc9llGzdurJ07d6pbt26XvETUsGFDFRQU6Ndff7U5Y/Lzzz/btQ5J+vHHHxUcHFxsP3svUV3Yf0Wte+/evfL39y90+7I9XFxc1K1bN3Xr1k0zZ87UCy+8oPHjx2vTpk2Kiooq0Vgl/Q6UhRtvvFHXXnutNm/ebJ04XZT9+/dr69atGjlypCIjI20+Kygo0ODBg7V06VI988wzl1xfeHi4pH8uG17Mw8NDH374oW6++WYNGzZMvr6+uvPOO0uxVUDpcVkKuAI9evRQfn6+Xn/9dZv2l19+WRaLpdCD0VJSUpSammp9n56ertWrV+vWW2+164zBO++8oxMnTljfv/vuuzp8+HCRD2C7WL9+/fTHH39o7ty5hT47c+aM9fLOhbFeffVVmz72PFH41ltvlZeXlxITE3X27Fmbz4x/3Rbt6emp7Ozsy45Xr149hYaGauHChTp+/Li1/ccff9Rnn32mHj16XHaMi/3111+F2kJDQyWp0C3x9ijpd6AsWCwWvfrqq0pISNDgwYOL7XfhrM3YsWN1zz332Lz69eunyMhIm0tTycnJRY5zYa5TcZcqvb29tXbtWgUHB2vgwIHFjgOUFc7cAFegV69euvnmmzV+/HgdOHBAISEh+uyzz7R69Wo99thjheattGrVStHR0Ta3gkvS5MmT7VpfzZo1deONNyo2NlaZmZlKSkpScHCwhg0bdtllBw8erJUrV+qhhx7Spk2b1LlzZ+Xn52vv3r1auXKl1q1bp/DwcIWGhmrgwIF64403lJ2drU6dOik5OVlpaWmXXYe3t7defvllPfjgg2rfvr0GDRokPz8/7dy5U6dPn9bChQslSWFhYVqxYoXi4uLUvn171ahRQ7169SpyzOnTp6t79+6KiIjQ0KFDrbeC+/j42PzOlb2effZZbdmyRT179lTDhg2VlZWlN954Q9dcc41uvPHGEo9X0u9AWendu7d69+59yT5LlixRaGhosZcg77jjDo0aNUqpqalq166devfureuuu069evVS48aNderUKW3YsEEfffSR2rdvX+wxk/65fX79+vXq3Lmz+vTpo+TkZHXo0OGKthGwmzNv1QIqm4tvBTcMwzhx4oTx+OOPG/Xr1zeqVq1qNGnSxJg+fbrNrc+G8c+tsiNGjDAWL15sNGnSxHB3dzfatm1rbNq06bLrvXDb7LJly4z4+HijTp06RrVq1YyePXsaBw8etOlb3O2/hmEYeXl5xrRp04zrr7/ecHd3N/z8/IywsDBj8uTJRnZ2trXfmTNnjNGjRxu1atUyPD09jV69ehnp6emXvRX8gg8//NDo1KmTUa1aNcPb29vo0KGDsWzZMuvnJ0+eNAYNGmT4+vpabyE2jKJvBTcMw9iwYYPRuXNn63i9evUyfvrpJ5s+F24Fv/gW74trTE5ONnr37m3Ur1/fcHNzM+rXr28MHDjQ+OWXX4rb/ZfdtyX9Dtjr4v19gb23Uf+73u3btxuSjAkTJhTb/8CBA4Yk4/HHHzcMwzCWLVtmDBgwwGjcuLFRrVo1w8PDw2jZsqUxfvx4m0cSXGrb9uzZY/j7+xs1a9Y0fvzxxxJvA1AaFsO46BGaAMqExWLRiBEjCl2+sMfmzZt18803a9WqVbrnnnvKoDpURBaLRU8++aTGjh0rT0/PMpmMXN7y8/P1999/66uvvlKfPn34TqNMMOcGACqw6dOnq3bt2po1a5azS3GIXbt2qXbt2urTp4+zS4GJMecGACqo9evXW/984XlElV1wcLDNdtlzpx9QUoQbAKigSnpbemVQo0YNU24XKhbm3AAAAFNhzg0AADAVwg0AADCVq27OTUFBgf788095eXmV6leKAQBA+TMMQydOnFD9+vXl4nLpczNXXbj5888/TfMDgQAAXG3S09N1zTXXXLLPVRduLvywXXp6ury9vZ1cDQAAsEdOTo4CAwNtfqC2OFdduLlwKcrb25twAwBAJWPPlBImFAMAAFMh3AAAAFMh3AAAAFMh3AAAAFMh3AAAAFMh3AAAAFMh3AAAAFMh3AAAAFMh3AAAAFMh3AAAAFMh3AAAAFMh3AAAAFMh3AAAAFMh3AAAAFOp4uwCzCZo3CfOLqHSODC1p7NLAACYEGduAACAqRBuAACAqRBuAACAqRBuAACAqRBuAACAqRBuAACAqRBuAACAqRBuAACAqRBuAACAqRBuAACAqRBuAACAqRBuAACAqRBuAACAqRBuAACAqRBuAACAqRBuAACAqRBuAACAqRBuAACAqRBuAACAqVSIcDNr1iwFBQXJw8NDHTt21LZt24rtu2DBAlksFpuXh4dHOVYLAAAqMqeHmxUrViguLk4JCQlKTU1VSEiIoqOjlZWVVewy3t7eOnz4sPV18ODBcqwYAABUZE4PNzNnztSwYcMUGxurli1bas6cOapevbrmzZtX7DIWi0V169a1vgICAortm5ubq5ycHJsXAAAwL6eGm7y8PG3fvl1RUVHWNhcXF0VFRSklJaXY5U6ePKmGDRsqMDBQvXv31u7du4vtm5iYKB8fH+srMDDQodsAAAAqFqeGm6NHjyo/P7/QmZeAgABlZGQUuUyzZs00b948rV69WosXL1ZBQYE6deqk33//vcj+8fHxys7Otr7S09Mdvh0AAKDiqOLsAkoqIiJCERER1vedOnVSixYt9H//93+aMmVKof7u7u5yd3cvzxIBAIATOfXMjb+/v1xdXZWZmWnTnpmZqbp169o1RtWqVdW2bVulpaWVRYkAAKCScWq4cXNzU1hYmJKTk61tBQUFSk5Otjk7cyn5+fnatWuX6tWrV1ZlAgCASsTpl6Xi4uIUExOj8PBwdejQQUlJSTp16pRiY2MlSUOGDFGDBg2UmJgoSXr22Wd1ww03KDg4WMePH9f06dN18OBBPfjgg87cDAAAUEE4Pdz0799fR44c0cSJE5WRkaHQ0FCtXbvWOsn40KFDcnH53wmmv//+W8OGDVNGRob8/PwUFhamrVu3qmXLls7aBAAAUIFYDMMwnF1EecrJyZGPj4+ys7Pl7e3t8PGDxn3i8DHN6sDUns4uAQBQSZTk32+nP8QPAADAkQg3AADAVAg3AADAVAg3AADAVAg3AADAVAg3AADAVAg3AADAVAg3AADAVAg3AADAVAg3AADAVAg3AADAVAg3AADAVAg3AADAVAg3AADAVAg3AADAVAg3AADAVAg3AADAVAg3AADAVAg3AADAVAg3AADAVAg3AADAVAg3AADAVAg3AADAVAg3AADAVAg3AADAVAg3AADAVAg3AADAVAg3AADAVAg3AADAVAg3AADAVAg3AADAVAg3AADAVAg3AADAVAg3AADAVAg3AADAVAg3AADAVAg3AADAVAg3AADAVAg3AADAVAg3AADAVAg3AADAVAg3AADAVAg3AADAVAg3AADAVAg3AADAVAg3AADAVAg3AADAVAg3AADAVAg3AADAVAg3AADAVAg3AADAVAg3AADAVAg3AADAVAg3AADAVCpEuJk1a5aCgoLk4eGhjh07atu2bXYtt3z5clksFvXp06dsCwQAAJWG08PNihUrFBcXp4SEBKWmpiokJETR0dHKysq65HIHDhzQE088oS5dupRTpQAAoDJweriZOXOmhg0bptjYWLVs2VJz5sxR9erVNW/evGKXyc/P17333qvJkyerUaNG5VgtAACo6JwabvLy8rR9+3ZFRUVZ21xcXBQVFaWUlJRil3v22WdVp04dDR069LLryM3NVU5Ojs0LAACYl1PDzdGjR5Wfn6+AgACb9oCAAGVkZBS5zJdffqm3335bc+fOtWsdiYmJ8vHxsb4CAwOvuG4AAFBxOf2yVEmcOHFCgwcP1ty5c+Xv72/XMvHx8crOzra+0tPTy7hKAADgTFWcuXJ/f3+5uroqMzPTpj0zM1N169Yt1P/XX3/VgQMH1KtXL2tbQUGBJKlKlSr6+eef1bhxY5tl3N3d5e7uXgbVAwCAisipZ27c3NwUFham5ORka1tBQYGSk5MVERFRqH/z5s21a9cu7dixw/q64447dPPNN2vHjh1ccgIAAM49cyNJcXFxiomJUXh4uDp06KCkpCSdOnVKsbGxkqQhQ4aoQYMGSkxMlIeHh1q1amWzvK+vryQVagcAAFcnp4eb/v3768iRI5o4caIyMjIUGhqqtWvXWicZHzp0SC4ulWpqEAAAcCKLYRiGs4soTzk5OfLx8VF2dra8vb0dPn7QuE8cPqZZHZja09klAAAqiZL8+80pEQAAYCqEGwAAYCqEGwAAYCqEGwAAYCqEGwAAYCqEGwAAYCqEGwAAYCqEGwAAYCqEGwAAYCqEGwAAYCqEGwAAYCqEGwAAYCqEGwAAYCqEGwAAYCqEGwAAYCqEGwAAYCqEGwAAYCqEGwAAYCqEGwAAYCqEGwAAYCqEGwAAYCqEGwAAYCqEGwAAYCqEGwAAYCqEGwAAYCqEGwAAYCqEGwAAYCqEGwAAYCqEGwAAYCqEGwAAYCqEGwAAYCqEGwAAYCqEGwAAYCqEGwAAYCqEGwAAYCqEGwAAYCqEGwAAYCqEGwAAYCqlCjebNm1ydB0AAAAOUapwc9ttt6lx48Z67rnnlJ6e7uiaAAAASq1U4eaPP/7QyJEj9e6776pRo0aKjo7WypUrlZeX5+j6AAAASqRU4cbf31+PP/64duzYoW+++UZNmzbVI488ovr162v06NHauXOno+sEAACwyxVPKG7Xrp3i4+M1cuRInTx5UvPmzVNYWJi6dOmi3bt3O6JGAAAAu5U63Jw7d07vvvuuevTooYYNG2rdunV6/fXXlZmZqbS0NDVs2FB9+/Z1ZK0AAACXVaU0C40aNUrLli2TYRgaPHiwXnzxRbVq1cr6uaenp2bMmKH69es7rFAAAAB7lCrc/PTTT3rttdd01113yd3dvcg+/v7+3DIOAADKXakuSyUkJKhv376Fgs358+e1ZcsWSVKVKlUUGRl55RUCAACUQKnCzc0336y//vqrUHt2drZuvvnmKy4KAACgtEoVbgzDkMViKdR+7NgxeXp6XnFRAAAApVWiOTd33XWXJMlisej++++3uSyVn5+vH374QZ06dXJshQAAACVQonDj4+Mj6Z8zN15eXqpWrZr1Mzc3N91www0aNmyYYysEAAAogRKFm/nz50uSgoKC9MQTT3AJCgAAVDiluhU8ISHB0XUAAAA4hN3hpl27dkpOTpafn5/atm1b5ITiC1JTUx1SHAAAQEnZHW569+5tnUDcp0+fsqoHAADgitgdbv59KcrRl6VmzZql6dOnKyMjQyEhIXrttdfUoUOHIvu+9957euGFF5SWlqZz586pSZMmGjNmjAYPHuzQmgAAQOV0xb8KfqVWrFihuLg4JSQkKDU1VSEhIYqOjlZWVlaR/WvWrKnx48crJSVFP/zwg2JjYxUbG6t169aVc+UAAKAishiGYdjT0c/P75LzbP6tqKcXF6djx45q3769Xn/9dUlSQUGBAgMDNWrUKI0bN86uMdq1a6eePXtqypQpl+2bk5MjHx8fZWdny9vb2+467RU07hOHj2lWB6b2dHYJAIBKoiT/ftt9WSopKelK6yokLy9P27dvV3x8vLXNxcVFUVFRSklJuezyhmFo48aN+vnnnzVt2rQi++Tm5io3N9f6Picn58oLBwAAFZbd4SYmJsbhKz969Kjy8/MVEBBg0x4QEKC9e/cWu1x2drYaNGig3Nxcubq66o033tB//vOfIvsmJiZq8uTJDq0bAABUXHaHm5ycHOtpoMud/SiLyz3/5uXlpR07dujkyZNKTk5WXFycGjVqpK5duxbqGx8fr7i4OOv7nJwcBQYGlml9AADAeewON35+fjp8+LDq1KkjX1/fIuffXPhBzfz8fLvG9Pf3l6urqzIzM23aMzMzVbdu3WKXc3FxUXBwsCQpNDRUe/bsUWJiYpHhxt3d3eY3sAAAgLnZHW42btyomjVrSpI2bdrkkJW7ubkpLCxMycnJ1mfnFBQUKDk5WSNHjrR7nIKCApt5NQAA4Opld7iJjIws8s9XKi4uTjExMQoPD1eHDh2UlJSkU6dOKTY2VpI0ZMgQNWjQQImJiZL+mUMTHh6uxo0bKzc3V59++qkWLVqk2bNnO6wmAABQeZXqt6Uk6e+//9bbb7+tPXv2SJJatmyp2NhY69kde/Xv319HjhzRxIkTlZGRodDQUK1du9Y6yfjQoUNycfnf43hOnTqlRx55RL///ruqVaum5s2ba/Hixerfv39pNwUAAJiI3c+5+bctW7aoV69e8vHxUXh4uCRp+/btOn78uD766CPddNNNDi/UUXjOTcXBc24AAPYqk+fc/NuIESPUv39/zZ49W66urpKk/Px8PfLIIxoxYoR27dpVmmEBAACuWKl+fiEtLU1jxoyxBhtJcnV1VVxcnNLS0hxWHAAAQEmVKty0a9fOOtfm3/bs2aOQkJArLgoAAKC07L4s9cMPP1j/PHr0aD366KNKS0vTDTfcIEn6+uuvNWvWLE2dOtXxVQIAANjJ7gnFLi4uslgsulz3kjzEzxmYUFxxMKEYAGCvMplQvH///isuDAAAoKzZHW4aNmxYlnUAAAA4RKkf4idJP/30kw4dOqS8vDyb9jvuuOOKigIAACitUoWb3377TXfeead27dplMw/nwo9pVuQ5NwAAwNxKdSv4o48+quuuu05ZWVmqXr26du/erS1btig8PFybN292cIkAAAD2K9WZm5SUFG3cuFH+/v5ycXGRi4uLbrzxRiUmJmr06NH6/vvvHV0nAACAXUp15iY/P19eXl6SJH9/f/3555+S/pl0/PPPPzuuOgAAgBIq1ZmbVq1aaefOnbruuuvUsWNHvfjii3Jzc9Obb76pRo0aObpGAAAAu5Uq3DzzzDM6deqUJOnZZ5/V7bffri5duqhWrVpasWKFQwsEAAAoiVKFm+joaOufg4ODtXfvXv3111/y8/Oz3jEFAADgDFf0nBtJSk9PlyQFBgZecTEAAABXqlQTis+fP68JEybIx8dHQUFBCgoKko+Pj5555hmdO3fO0TUCAADYrVRnbkaNGqX33ntPL774oiIiIiT9c3v4pEmTdOzYMc2ePduhRQIAANirVOFm6dKlWr58ubp3725ta9OmjQIDAzVw4EDCDQAAcJpSXZZyd3dXUFBQofbrrrtObm5uV1oTAABAqZUq3IwcOVJTpkxRbm6utS03N1fPP/+8Ro4c6bDiAAAASsruy1J33XWXzfsNGzbommuuUUhIiCRp586dysvLU7du3RxbIQAAQAnYHW58fHxs3t99990277kVHAAAVAR2h5v58+eXZR0AAAAOcUUP8Tty5Ij1hzKbNWum2rVrO6QoAACA0irVhOJTp07pgQceUL169XTTTTfppptuUv369TV06FCdPn3a0TUCAADYrVThJi4uTp9//rk++ugjHT9+XMePH9fq1av1+eefa8yYMY6uEQAAwG6luiz13//+V++++666du1qbevRo4eqVaumfv368RA/AADgNKU6c3P69GkFBAQUaq9Tpw6XpQAAgFOVKtxEREQoISFBZ8+etbadOXNGkydPtv7WFAAAgDOU6rJUUlKSbrvttkIP8fPw8NC6descWiAAAEBJlCrctG7dWvv27dOSJUu0d+9eSdLAgQN17733qlq1ag4tEAAAoCRKHG7OnTun5s2b6+OPP9awYcPKoiYAAIBSK/Gcm6pVq9rMtQEAAKhISjWheMSIEZo2bZrOnz/v6HoAAACuSKnm3Hz77bdKTk7WZ599ptatW8vT09Pm8/fee88hxQEAAJRUqcKNr69voV8FBwAAqAhKFG4KCgo0ffp0/fLLL8rLy9Mtt9yiSZMmcYcUAACoMEo05+b555/X008/rRo1aqhBgwZ69dVXNWLEiLKqDQAAoMRKFG7eeecdvfHGG1q3bp0++OADffTRR1qyZIkKCgrKqj4AAIASKVG4OXTokHr06GF9HxUVJYvFoj///NPhhQEAAJRGicLN+fPn5eHhYdNWtWpVnTt3zqFFAQAAlFaJJhQbhqH7779f7u7u1razZ8/qoYcesrkdnFvBAQCAs5Qo3MTExBRqu++++xxWDAAAwJUqUbiZP39+WdUBAADgEKX6+QUAAICKinADAABMhXADAABMhXADAABMhXADAABMhXADAABMhXADAABMhXADAABMhXADAABMhXADAABMpUKEm1mzZikoKEgeHh7q2LGjtm3bVmzfuXPnqkuXLvLz85Ofn5+ioqIu2R8AAFxdnB5uVqxYobi4OCUkJCg1NVUhISGKjo5WVlZWkf03b96sgQMHatOmTUpJSVFgYKBuvfVW/fHHH+VcOQAAqIgshmEYziygY8eOat++vV5//XVJUkFBgQIDAzVq1CiNGzfussvn5+fLz89Pr7/+uoYMGXLZ/jk5OfLx8VF2dra8vb2vuP6LBY37xOFjmtWBqT2dXQIAoJIoyb/fTj1zk5eXp+3btysqKsra5uLioqioKKWkpNg1xunTp3Xu3DnVrFmzyM9zc3OVk5Nj8wIAAObl1HBz9OhR5efnKyAgwKY9ICBAGRkZdo3x1FNPqX79+jYB6d8SExPl4+NjfQUGBl5x3QAAoOJy+pybKzF16lQtX75c77//vjw8PIrsEx8fr+zsbOsrPT29nKsEAADlqYozV+7v7y9XV1dlZmbatGdmZqpu3bqXXHbGjBmaOnWqNmzYoDZt2hTbz93dXe7u7g6pFwAAVHxOPXPj5uamsLAwJScnW9sKCgqUnJysiIiIYpd78cUXNWXKFK1du1bh4eHlUSoAAKgknHrmRpLi4uIUExOj8PBwdejQQUlJSTp16pRiY2MlSUOGDFGDBg2UmJgoSZo2bZomTpyopUuXKigoyDo3p0aNGqpRo4bTtgMAAFQMTg83/fv315EjRzRx4kRlZGQoNDRUa9eutU4yPnTokFxc/neCafbs2crLy9M999xjM05CQoImTZpUnqUDAIAKyOnPuSlvPOem4uA5NwAAe1Wa59wAAAA4GuEGAACYCuEGAACYCuEGAACYCuEGAACYCuEGAACYCuEGAACYCuEGAACYCuEGAACYCuEGAACYCuEGAACYCuEGAACYCuEGAACYCuEGAACYCuEGAACYCuEGAACYCuEGAACYCuEGAACYCuEGAACYCuEGAACYCuEGAACYCuEGAACYCuEGAACYCuEGAACYCuEGAACYCuEGAACYCuEGAACYCuEGAACYCuEGAACYCuEGAACYCuEGAACYCuEGAACYCuEGAACYCuEGAACYCuEGAACYCuEGAACYCuEGAACYCuEGAACYCuEGAACYCuEGAACYCuEGAACYCuEGAACYCuEGAACYCuEGAACYCuEGAACYCuEGAACYCuEGAACYCuEGAACYCuEGAACYCuEGAACYCuEGAACYCuEGAACYCuEGAACYCuEGAACYCuEGAACYitPDzaxZsxQUFCQPDw917NhR27ZtK7bv7t27dffddysoKEgWi0VJSUnlVygAAKgUnBpuVqxYobi4OCUkJCg1NVUhISGKjo5WVlZWkf1Pnz6tRo0aaerUqapbt245VwsAACoDp4abmTNnatiwYYqNjVXLli01Z84cVa9eXfPmzSuyf/v27TV9+nQNGDBA7u7u5VwtAACoDJwWbvLy8rR9+3ZFRUX9rxgXF0VFRSklJcVh68nNzVVOTo7NCwAAmJfTws3Ro0eVn5+vgIAAm/aAgABlZGQ4bD2JiYny8fGxvgIDAx02NgAAqHicPqG4rMXHxys7O9v6Sk9Pd3ZJAACgDFVx1or9/f3l6uqqzMxMm/bMzEyHThZ2d3dnfg4AAFcRp525cXNzU1hYmJKTk61tBQUFSk5OVkREhLPKAgAAlZzTztxIUlxcnGJiYhQeHq4OHTooKSlJp06dUmxsrCRpyJAhatCggRITEyX9Mwn5p59+sv75jz/+0I4dO1SjRg0FBwc7bTsAAEDF4dRw079/fx05ckQTJ05URkaGQkNDtXbtWusk40OHDsnF5X8nl/7880+1bdvW+n7GjBmaMWOGIiMjtXnz5vIuHwAAVEAWwzAMZxdRnnJycuTj46Ps7Gx5e3s7fPygcZ84fEyzOjC1p7NLAABUEiX599v0d0sBAICrC+EGAACYCuEGAACYCuEGAACYCuEGAACYCuEGAACYCuEGAACYCuEGAACYCuEGAACYCuEGAACYCuEGAACYCuEGAACYCuEGAACYCuEGAACYShVnFwA4QtC4T5xdQqVxYGpPZ5cAAGWKMzcAAMBUCDcAAMBUCDcAAMBUCDcAAMBUCDcAAMBUCDcAAMBUCDcAAMBUCDcAAMBUCDcAAMBUCDcAAMBUCDcAAMBUCDcAAMBUCDcAAMBUCDcAAMBUCDcAAMBUCDcAAMBUCDcAAMBUCDcAAMBUCDcAAMBUCDcAAMBUCDcAAMBUCDcAAMBUCDcAAMBUqji7AACVV9C4T5xdQqVxYGpPZ5cAXDU4cwMAAEyFcAMAAEyFcAMAAEyFcAMAAEyFcAMAAEyFcAMAAEyFcAMAAEyF59wAQCXD84Xsx/OFrk6cuQEAAKbCmRsAAOzAGTP7OfuMGWduAACAqRBuAACAqRBuAACAqRBuAACAqRBuAACAqVSIcDNr1iwFBQXJw8NDHTt21LZt2y7Zf9WqVWrevLk8PDzUunVrffrpp+VUKQAAqOicHm5WrFihuLg4JSQkKDU1VSEhIYqOjlZWVlaR/bdu3aqBAwdq6NCh+v7779WnTx/16dNHP/74YzlXDgAAKiKnh5uZM2dq2LBhio2NVcuWLTVnzhxVr15d8+bNK7L/K6+8ottuu01PPvmkWrRooSlTpqhdu3Z6/fXXy7lyAABQETn1IX55eXnavn274uPjrW0uLi6KiopSSkpKkcukpKQoLi7Opi06OloffPBBkf1zc3OVm5trfZ+dnS1JysnJucLqi1aQe7pMxjUjRx4D9rv92O/OwX53Dva7c5TFv7EXxjQM47J9nRpujh49qvz8fAUEBNi0BwQEaO/evUUuk5GRUWT/jIyMIvsnJiZq8uTJhdoDAwNLWTUcxSfJ2RVcndjvzsF+dw72u3OU5X4/ceKEfHx8LtnH9D+/EB8fb3Omp6CgQH/99Zdq1aoli8XixMrKR05OjgIDA5Weni5vb29nl3PVYL87B/vdOdjvznG17XfDMHTixAnVr1//sn2dGm78/f3l6uqqzMxMm/bMzEzVrVu3yGXq1q1bov7u7u5yd3e3afP19S190ZWUt7f3VfHlr2jY787BfncO9rtzXE37/XJnbC5w6oRiNzc3hYWFKTk52dpWUFCg5ORkRUREFLlMRESETX9JWr9+fbH9AQDA1cXpl6Xi4uIUExOj8PBwdejQQUlJSTp16pRiY2MlSUOGDFGDBg2UmJgoSXr00UcVGRmpl156ST179tTy5cv13Xff6c0333TmZgAAgArC6eGmf//+OnLkiCZOnKiMjAyFhoZq7dq11knDhw4dkovL/04wderUSUuXLtUzzzyjp59+Wk2aNNEHH3ygVq1aOWsTKjR3d3clJCQUujSHssV+dw72u3Ow352D/V48i2HPPVUAAACVhNMf4gcAAOBIhBsAAGAqhBsAAGAqhBsAAGAqhJur3KRJkxQaGursMspN165d9dhjjzm7jBK5//771adPH2eXUSqGYWj48OGqWbOmLBaLduzYUWbrsmc/vfnmmwoMDJSLi4uSkpLKrJaKrjyPC+AMhJur3BNPPFHooYiAo6xdu1YLFizQxx9/rMOHDzv1kQ05OTkaOXKknnrqKf3xxx8aPnz4FY1nsViK/cHeiq4iHRegLDj9OTdwDsMwlJ+frxo1aqhGjRrOLqfCysvLk5ubm7PLqLR+/fVX1atXT506dSry8/Lcv4cOHdK5c+fUs2dP1atXr9TjmOE7UZGOC1AWOHNTSXTt2lUjR47UyJEj5ePjI39/f02YMMH60++LFi1SeHi4vLy8VLduXQ0aNEhZWVnW5Tdv3iyLxaI1a9YoLCxM7u7u+vLLLwtdltq8ebM6dOggT09P+fr6qnPnzjp48GB5b26ZOn/+fLH7MSgoSFOmTNGQIUPk7e2t4cOHW/fd8ePHrWPs2LFDFotFBw4ckCQdPHhQvXr1kp+fnzw9PXX99dfr008/lST9/fffuvfee1W7dm1Vq1ZNTZo00fz5861jpaenq1+/fvL19VXNmjXVu3dv67hFeffdd9W6dWtVq1ZNtWrVUlRUlE6dOuXw/XSl7r//fo0aNUqHDh2SxWJRUFCQ9Xv82GOPyd/fX9HR0ZKkmTNnqnXr1vL09FRgYKAeeeQRnTx50jrWggUL5Ovrq3Xr1qlFixaqUaOGbrvtNh0+fLjY9X/77beqXbu2pk2bpgULFqh169aSpEaNGlmPXVGXsh577DF17drV+r6omoOCgiRJd955p3XbKgtnHJd58+bp+uuvl7u7u+rVq6eRI0daPzt+/LgefPBB1a5dW97e3rrlllu0c+fO8tkZZahr164aNWqUHnvsMfn5+SkgIEBz5861PoHfy8tLwcHBWrNmjXWZzz//XB06dLDup3Hjxun8+fM2Y44ePVpjx45VzZo1VbduXU2aNMlmvZc7ZpL01VdfqWvXrqpevbr8/PwUHR2tv//+W5KUm5ur0aNHq06dOvLw8NCNN96ob7/9tux2VBkh3FQiCxcuVJUqVbRt2za98sormjlzpt566y1J0rlz5zRlyhTt3LlTH3zwgfUv7ouNGzdOU6dO1Z49e9SmTRubz86fP68+ffooMjJSP/zwg1JSUjR8+HDT/Xr6pfajJM2YMUMhISH6/vvvNWHCBLvGHDFihHJzc7Vlyxbt2rVL06ZNs54RmzBhgn766SetWbNGe/bs0ezZs+Xv7y/pn+MWHR0tLy8vffHFF/rqq6+s/0Dk5eUVWs/hw4c1cOBAPfDAA9qzZ482b96su+66SxXxWZyvvPKKnn32WV1zzTU6fPiw9S/IhQsXys3NTV999ZXmzJkjSXJxcdGrr76q3bt3a+HChdq4caPGjh1rM97p06c1Y8YMLVq0SFu2bNGhQ4f0xBNPFLnujRs36j//+Y+ef/55PfXUU+rfv782bNggSdq2bZsOHz6swMBAu7fl4povbMv8+fNttq0yKO/jMnv2bI0YMULDhw/Xrl279OGHHyo4ONj6ed++fZWVlaU1a9Zo+/btateunbp166a//vqrHPZG2Vq4cKH8/f21bds2jRo1Sg8//LD69u2rTp06KTU1VbfeeqsGDx6s06dP648//lCPHj3Uvn177dy5U7Nnz9bbb7+t5557rtCYnp6e+uabb/Tiiy/q2Wef1fr1662fX+6Y7dixQ926dVPLli2VkpKiL7/8Ur169VJ+fr4kaezYsfrvf/+rhQsXKjU1VcHBwYqOjq58x8NApRAZGWm0aNHCKCgosLY99dRTRosWLYrs/+233xqSjBMnThiGYRibNm0yJBkffPCBTb+EhAQjJCTEMAzDOHbsmCHJ2Lx5c9lsRAVwuf3YsGFDo0+fPjbLXNh3f//9t7Xt+++/NyQZ+/fvNwzDMFq3bm1MmjSpyHX26tXLiI2NLfKzRYsWGc2aNbOpJzc316hWrZqxbt06wzAMIyYmxujdu7dhGIaxfft2Q5Jx4MCBEm23s7z88stGw4YNre8jIyONtm3bXna5VatWGbVq1bK+nz9/viHJSEtLs7bNmjXLCAgIsL6/sJ/ee+89o0aNGsby5cttxrz4mP17mX979NFHjcjIyMvWLMl4//33L7stFVF5Hpf69esb48ePL3K8L774wvD29jbOnj1r0964cWPj//7v/+zdnAopMjLSuPHGG63vz58/b3h6ehqDBw+2th0+fNiQZKSkpBhPP/10ob8LZs2aZdSoUcPIz88vckzDMIz27dsbTz31VLF1XHzMBg4caHTu3LnIvidPnjSqVq1qLFmyxNqWl5dn1K9f33jxxRft3PKKgTM3lcgNN9xgcxYlIiJC+/btU35+vrZv365evXrp2muvlZeXlyIjIyX9M8/g38LDw4sdv2bNmrr//vsVHR2tXr166ZVXXrnkaf/K6lL7Ubr0PirO6NGj9dxzz6lz585KSEjQDz/8YP3s4Ycf1vLlyxUaGqqxY8dq69at1s927typtLQ0eXl5Wec/1axZU2fPntWvv/5aaD0hISHq1q2bWrdurb59+2ru3LnW08mVRVhYWKG2DRs2qFu3bmrQoIG8vLw0ePBgHTt2TKdPn7b2qV69uho3bmx9X69ePZtLr5L0zTffqG/fvlq0aJH69+9fpjWbTVkcl6ysLP3555/q1q1bkevcuXOnTp48qVq1alm//zVq1ND+/fuL/P5XNv8+O+7q6qpatWpZL49Ksv6GYlZWlvbs2aOIiAibv5s6d+6skydP6vfffy9yTKnwfweXO2YXztwU5ddff9W5c+fUuXNna1vVqlXVoUMH7dmzpzS7wGkINyZw9uxZRUdHy9vbW0uWLNG3336r999/X5IKXdrw9PS85Fjz589XSkqKOnXqpBUrVqhp06b6+uuvy6z2iujifXThh1uNf136OXfunE2fBx98UL/99psGDx6sXbt2KTw8XK+99pokqXv37jp48KAef/xx61/0F07bnzx5UmFhYdqxY4fN65dfftGgQYMK1ebq6qr169drzZo1atmypV577TU1a9ZM+/fvd+g+KEsX798DBw7o9ttvV5s2bfTf//5X27dv16xZsyTZfn+rVq1qs5zFYil0Oa5x48Zq3ry55s2bV+gYFcXFxaXQGEUtd7n/bsygLI5LtWrVLrnOkydPql69eoW+/z///LOefPJJR2yWUxW1b/7ddiHIFBQUXNGYF5a355hd7piYBeGmEvnmm29s3n/99ddq0qSJ9u7dq2PHjmnq1Knq0qWLmjdvXuj/aEuibdu2io+P19atW9WqVSstXbr0SkuvUIrbj66urkX2r127tiTZnMUq6rkggYGBeuihh/Tee+9pzJgxmjt3rs0YMTExWrx4sZKSkvTmm29Kktq1a6d9+/apTp06Cg4Otnn5+PgUWY/FYlHnzp01efJkff/993Jzc7OG2cpo+/btKigo0EsvvaQbbrhBTZs21Z9//lmqsfz9/bVx40alpaWpX79+lw04tWvXLnR20t5nvlStWtV6ts+MHHFcvLy8FBQUVOzjJtq1a6eMjAxVqVKl0Pf/wry0q0WLFi2UkpJiE7a/+uoreXl56ZprrrFrDHuOWZs2bYo9Ho0bN7bOu7rg3Llz+vbbb9WyZctSbJXzEG4qkUOHDikuLk4///yzli1bptdee02PPvqorr32Wrm5uem1117Tb7/9pg8//FBTpkwp8fj79+9XfHy8UlJSdPDgQX322Wfat2+fWrRoUQZb4zzF7cfiBAcHKzAwUJMmTdK+ffv0ySef6KWXXrLp89hjj2ndunXav3+/UlNTtWnTJut+mzhxolavXq20tDTt3r1bH3/8sfWze++9V/7+/urdu7e++OIL7d+/X5s3b9bo0aNtTkVf8M033+iFF17Qd999p0OHDum9997TkSNHKvUxCg4O1rlz56zf30WLFlkntJZGnTp1tHHjRu3du1cDBw60udvkYrfccou+++47vfPOO9q3b58SEhL0448/2rWeC/9oZ2RkVLpLg/Zw1HGZNGmSXnrpJb366qvat2+fUlNTrWc1o6KiFBERoT59+uizzz7TgQMHtHXrVo0fP17fffedozepQnvkkUeUnp6uUaNGae/evVq9erUSEhIUFxdnPXt8OfYcs/j4eH377bd65JFH9MMPP2jv3r2aPXu2jh49Kk9PTz388MN68skntXbtWv30008aNmyYTp8+raFDh5bFZpcZwk0lMmTIEJ05c0YdOnTQiBEj9Oijj2r48OGqXbu2FixYoFWrVqlly5aaOnWqZsyYUeLxq1evrr179+ruu+9W06ZNNXz4cI0YMUL/7//9vzLYGucpbj8Wp2rVqlq2bJn27t2rNm3aaNq0aYXuYMjPz9eIESPUokUL3XbbbWratKneeOMNSZKbm5vi4+PVpk0b3XTTTXJ1ddXy5csl/bPPt2zZomuvvVZ33XWXWrRooaFDh+rs2bPy9vYuVIu3t7e2bNmiHj16qGnTpnrmmWf00ksvqXv37g7cQ+UrJCREM2fO1LRp09SqVSstWbJEiYmJVzRm3bp1tXHjRu3atUv33ntvsWdYoqOjNWHCBI0dO1bt27fXiRMnNGTIELvW8dJLL2n9+vUKDAxU27Ztr6jeishRxyUmJkZJSUl64403dP311+v222/Xvn37JP1zFvLTTz/VTTfdpNjYWDVt2lQDBgzQwYMHrfNRrhYNGjTQp59+qm3btikkJEQPPfSQhg4dqmeeecbuMew5Zk2bNtVnn32mnTt3qkOHDoqIiNDq1atVpco/j72bOnWq7r77bg0ePFjt2rVTWlqa1q1bJz8/P4dub1mzGBdfcEaF1LVrV4WGhl7Vj4wHAMAenLkBAACmQrgBAACmwmUpAABgKpy5AQAApkK4AQAApkK4AQAApkK4AQAApkK4AQAApkK4AQAApkK4AQAApkK4AQAApvL/AdTJo8ty58pMAAAAAElFTkSuQmCC\n"
          },
          "metadata": {}
        }
      ]
    },
    {
      "cell_type": "code",
      "source": [
        "eval_results = trainer.evaluate()\n",
        "print(eval_results)"
      ],
      "metadata": {
        "id": "CW4m-RcKgCyS",
        "colab": {
          "base_uri": "https://localhost:8080/",
          "height": 54
        },
        "outputId": "80cabf90-1894-4aa4-a82c-81ba3f0c4672"
      },
      "execution_count": 19,
      "outputs": [
        {
          "output_type": "display_data",
          "data": {
            "text/plain": [
              "<IPython.core.display.HTML object>"
            ],
            "text/html": [
              "\n",
              "    <div>\n",
              "      \n",
              "      <progress value='77' max='77' style='width:300px; height:20px; vertical-align: middle;'></progress>\n",
              "      [77/77 00:07]\n",
              "    </div>\n",
              "    "
            ]
          },
          "metadata": {}
        },
        {
          "output_type": "stream",
          "name": "stdout",
          "text": [
            "{'eval_loss': 1.6531116962432861, 'eval_runtime': 7.6825, 'eval_samples_per_second': 319.428, 'eval_steps_per_second': 10.023, 'epoch': 3.0}\n"
          ]
        }
      ]
    }
  ]
}
